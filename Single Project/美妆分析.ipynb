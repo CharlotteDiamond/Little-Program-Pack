{
 "cells": [
  {
   "cell_type": "code",
   "execution_count": 1,
   "metadata": {},
   "outputs": [],
   "source": [
    "# 导入Pandas库\n",
    "import pandas as pd\n",
    "# 导入 numpy库\n",
    "import numpy as np"
   ]
  },
  {
   "cell_type": "markdown",
   "metadata": {},
   "source": [
    "# 任务1：数据读取\n",
    "【任务目标】\n",
    "\n",
    "本次任务将主要讲解如何利用Pandas对项目中的数据进行读取，并查看基本信息。"
   ]
  },
  {
   "cell_type": "code",
   "execution_count": 2,
   "metadata": {
    "scrolled": false
   },
   "outputs": [
    {
     "data": {
      "text/html": [
       "<div>\n",
       "<style scoped>\n",
       "    .dataframe tbody tr th:only-of-type {\n",
       "        vertical-align: middle;\n",
       "    }\n",
       "\n",
       "    .dataframe tbody tr th {\n",
       "        vertical-align: top;\n",
       "    }\n",
       "\n",
       "    .dataframe thead th {\n",
       "        text-align: right;\n",
       "    }\n",
       "</style>\n",
       "<table border=\"1\" class=\"dataframe\">\n",
       "  <thead>\n",
       "    <tr style=\"text-align: right;\">\n",
       "      <th></th>\n",
       "      <th>update_time</th>\n",
       "      <th>id</th>\n",
       "      <th>title</th>\n",
       "      <th>price</th>\n",
       "      <th>sale_count</th>\n",
       "      <th>comment_count</th>\n",
       "      <th>店名</th>\n",
       "    </tr>\n",
       "  </thead>\n",
       "  <tbody>\n",
       "    <tr>\n",
       "      <th>0</th>\n",
       "      <td>2016/11/14</td>\n",
       "      <td>A18164178225</td>\n",
       "      <td>CHANDO/自然堂 雪域精粹纯粹滋润霜50g 补水保湿 滋润水润面霜</td>\n",
       "      <td>139.0</td>\n",
       "      <td>26719.0</td>\n",
       "      <td>2704.0</td>\n",
       "      <td>自然堂</td>\n",
       "    </tr>\n",
       "    <tr>\n",
       "      <th>1</th>\n",
       "      <td>2016/11/14</td>\n",
       "      <td>A18177105952</td>\n",
       "      <td>CHANDO/自然堂凝时鲜颜肌活乳液120ML 淡化细纹补水滋润专柜正品</td>\n",
       "      <td>194.0</td>\n",
       "      <td>8122.0</td>\n",
       "      <td>1492.0</td>\n",
       "      <td>自然堂</td>\n",
       "    </tr>\n",
       "    <tr>\n",
       "      <th>2</th>\n",
       "      <td>2016/11/14</td>\n",
       "      <td>A18177226992</td>\n",
       "      <td>CHANDO/自然堂活泉保湿修护精华水（滋润型135ml 补水控油爽肤水</td>\n",
       "      <td>99.0</td>\n",
       "      <td>12668.0</td>\n",
       "      <td>589.0</td>\n",
       "      <td>自然堂</td>\n",
       "    </tr>\n",
       "    <tr>\n",
       "      <th>3</th>\n",
       "      <td>2016/11/14</td>\n",
       "      <td>A18178033846</td>\n",
       "      <td>CHANDO/自然堂 男士劲爽控油洁面膏 100g 深层清洁  男士洗面奶</td>\n",
       "      <td>38.0</td>\n",
       "      <td>25805.0</td>\n",
       "      <td>4287.0</td>\n",
       "      <td>自然堂</td>\n",
       "    </tr>\n",
       "    <tr>\n",
       "      <th>4</th>\n",
       "      <td>2016/11/14</td>\n",
       "      <td>A18178045259</td>\n",
       "      <td>CHANDO/自然堂雪域精粹纯粹滋润霜（清爽型）50g补水保湿滋润霜</td>\n",
       "      <td>139.0</td>\n",
       "      <td>5196.0</td>\n",
       "      <td>618.0</td>\n",
       "      <td>自然堂</td>\n",
       "    </tr>\n",
       "  </tbody>\n",
       "</table>\n",
       "</div>"
      ],
      "text/plain": [
       "  update_time            id                                  title  price  \\\n",
       "0  2016/11/14  A18164178225    CHANDO/自然堂 雪域精粹纯粹滋润霜50g 补水保湿 滋润水润面霜  139.0   \n",
       "1  2016/11/14  A18177105952   CHANDO/自然堂凝时鲜颜肌活乳液120ML 淡化细纹补水滋润专柜正品  194.0   \n",
       "2  2016/11/14  A18177226992   CHANDO/自然堂活泉保湿修护精华水（滋润型135ml 补水控油爽肤水   99.0   \n",
       "3  2016/11/14  A18178033846  CHANDO/自然堂 男士劲爽控油洁面膏 100g 深层清洁  男士洗面奶   38.0   \n",
       "4  2016/11/14  A18178045259     CHANDO/自然堂雪域精粹纯粹滋润霜（清爽型）50g补水保湿滋润霜  139.0   \n",
       "\n",
       "   sale_count  comment_count   店名  \n",
       "0     26719.0         2704.0  自然堂  \n",
       "1      8122.0         1492.0  自然堂  \n",
       "2     12668.0          589.0  自然堂  \n",
       "3     25805.0         4287.0  自然堂  \n",
       "4      5196.0          618.0  自然堂  "
      ]
     },
     "execution_count": 2,
     "metadata": {},
     "output_type": "execute_result"
    }
   ],
   "source": [
    "# 读取实验数据\n",
    "cosdata = pd.read_csv(r\"C:\\Users\\12240\\Desktop\\beautymakeup.csv\") \n",
    " # 查看前5行\n",
    "cosdata.head(5)"
   ]
  },
  {
   "cell_type": "code",
   "execution_count": 3,
   "metadata": {},
   "outputs": [
    {
     "data": {
      "text/plain": [
       "(27598, 7)"
      ]
     },
     "execution_count": 3,
     "metadata": {},
     "output_type": "execute_result"
    }
   ],
   "source": [
    "cosdata.shape"
   ]
  },
  {
   "cell_type": "code",
   "execution_count": 4,
   "metadata": {},
   "outputs": [
    {
     "name": "stdout",
     "output_type": "stream",
     "text": [
      "<class 'pandas.core.frame.DataFrame'>\n",
      "RangeIndex: 27598 entries, 0 to 27597\n",
      "Data columns (total 7 columns):\n",
      " #   Column         Non-Null Count  Dtype  \n",
      "---  ------         --------------  -----  \n",
      " 0   update_time    27598 non-null  object \n",
      " 1   id             27598 non-null  object \n",
      " 2   title          27598 non-null  object \n",
      " 3   price          27598 non-null  float64\n",
      " 4   sale_count     25244 non-null  float64\n",
      " 5   comment_count  25244 non-null  float64\n",
      " 6   店名             27598 non-null  object \n",
      "dtypes: float64(3), object(4)\n",
      "memory usage: 1.5+ MB\n"
     ]
    }
   ],
   "source": [
    "# 查看各字段信息\n",
    "cosdata.info()"
   ]
  },
  {
   "cell_type": "code",
   "execution_count": 5,
   "metadata": {},
   "outputs": [
    {
     "data": {
      "text/plain": [
       "悦诗风吟    3021\n",
       "佰草集     2265\n",
       "欧莱雅     1974\n",
       "雅诗兰黛    1810\n",
       "倩碧      1704\n",
       "美加净     1678\n",
       "欧珀莱     1359\n",
       "妮维雅     1329\n",
       "相宜本草    1313\n",
       "兰蔻      1285\n",
       "娇兰      1193\n",
       "自然堂     1190\n",
       "玉兰油     1135\n",
       "兰芝      1091\n",
       "美宝莲      825\n",
       "资生堂      821\n",
       "植村秀      750\n",
       "薇姿       746\n",
       "雅漾       663\n",
       "雪花秀      543\n",
       "SKII     469\n",
       "蜜丝佛陀     434\n",
       "Name: 店名, dtype: int64"
      ]
     },
     "execution_count": 5,
     "metadata": {},
     "output_type": "execute_result"
    }
   ],
   "source": [
    "# 查看店名字段的具体值\n",
    "cosdata['店名'].value_counts()"
   ]
  },
  {
   "cell_type": "markdown",
   "metadata": {},
   "source": [
    "# 任务2：数据清洗\n",
    "\n",
    "###【任务目标】\n",
    "\n",
    "本阶段任务将主要对数据集进行重复数据处理、缺失值处理、数据的提取与拆分等系列数据清洗操作。\n",
    "\n",
    "###【任务步骤】"
   ]
  },
  {
   "cell_type": "markdown",
   "metadata": {},
   "source": [
    "## 2.1、重复数据处理\n",
    "\n",
    "首先对数据集标题行重复数据的处理，对数据集中重复的数据做删除操作。"
   ]
  },
  {
   "cell_type": "code",
   "execution_count": 6,
   "metadata": {},
   "outputs": [],
   "source": [
    "# 对重复数据做删除处理\n",
    "cosdata.drop_duplicates(subset=None, inplace=True) #cosdata = cosdata.drop_duplicates()"
   ]
  },
  {
   "cell_type": "code",
   "execution_count": 7,
   "metadata": {},
   "outputs": [
    {
     "data": {
      "text/html": [
       "<div>\n",
       "<style scoped>\n",
       "    .dataframe tbody tr th:only-of-type {\n",
       "        vertical-align: middle;\n",
       "    }\n",
       "\n",
       "    .dataframe tbody tr th {\n",
       "        vertical-align: top;\n",
       "    }\n",
       "\n",
       "    .dataframe thead th {\n",
       "        text-align: right;\n",
       "    }\n",
       "</style>\n",
       "<table border=\"1\" class=\"dataframe\">\n",
       "  <thead>\n",
       "    <tr style=\"text-align: right;\">\n",
       "      <th></th>\n",
       "      <th>update_time</th>\n",
       "      <th>id</th>\n",
       "      <th>title</th>\n",
       "      <th>price</th>\n",
       "      <th>sale_count</th>\n",
       "      <th>comment_count</th>\n",
       "      <th>店名</th>\n",
       "    </tr>\n",
       "  </thead>\n",
       "  <tbody>\n",
       "    <tr>\n",
       "      <th>0</th>\n",
       "      <td>2016/11/14</td>\n",
       "      <td>A18164178225</td>\n",
       "      <td>CHANDO/自然堂 雪域精粹纯粹滋润霜50g 补水保湿 滋润水润面霜</td>\n",
       "      <td>139.0</td>\n",
       "      <td>26719.0</td>\n",
       "      <td>2704.0</td>\n",
       "      <td>自然堂</td>\n",
       "    </tr>\n",
       "    <tr>\n",
       "      <th>1</th>\n",
       "      <td>2016/11/14</td>\n",
       "      <td>A18177105952</td>\n",
       "      <td>CHANDO/自然堂凝时鲜颜肌活乳液120ML 淡化细纹补水滋润专柜正品</td>\n",
       "      <td>194.0</td>\n",
       "      <td>8122.0</td>\n",
       "      <td>1492.0</td>\n",
       "      <td>自然堂</td>\n",
       "    </tr>\n",
       "    <tr>\n",
       "      <th>2</th>\n",
       "      <td>2016/11/14</td>\n",
       "      <td>A18177226992</td>\n",
       "      <td>CHANDO/自然堂活泉保湿修护精华水（滋润型135ml 补水控油爽肤水</td>\n",
       "      <td>99.0</td>\n",
       "      <td>12668.0</td>\n",
       "      <td>589.0</td>\n",
       "      <td>自然堂</td>\n",
       "    </tr>\n",
       "    <tr>\n",
       "      <th>3</th>\n",
       "      <td>2016/11/14</td>\n",
       "      <td>A18178033846</td>\n",
       "      <td>CHANDO/自然堂 男士劲爽控油洁面膏 100g 深层清洁  男士洗面奶</td>\n",
       "      <td>38.0</td>\n",
       "      <td>25805.0</td>\n",
       "      <td>4287.0</td>\n",
       "      <td>自然堂</td>\n",
       "    </tr>\n",
       "    <tr>\n",
       "      <th>4</th>\n",
       "      <td>2016/11/14</td>\n",
       "      <td>A18178045259</td>\n",
       "      <td>CHANDO/自然堂雪域精粹纯粹滋润霜（清爽型）50g补水保湿滋润霜</td>\n",
       "      <td>139.0</td>\n",
       "      <td>5196.0</td>\n",
       "      <td>618.0</td>\n",
       "      <td>自然堂</td>\n",
       "    </tr>\n",
       "    <tr>\n",
       "      <th>...</th>\n",
       "      <td>...</td>\n",
       "      <td>...</td>\n",
       "      <td>...</td>\n",
       "      <td>...</td>\n",
       "      <td>...</td>\n",
       "      <td>...</td>\n",
       "      <td>...</td>\n",
       "    </tr>\n",
       "    <tr>\n",
       "      <th>27593</th>\n",
       "      <td>2016/11/5</td>\n",
       "      <td>A535642405757</td>\n",
       "      <td>SK-II【11-11】全新大眼眼霜skii放大双眼眼部修护精华紧致</td>\n",
       "      <td>590.0</td>\n",
       "      <td>NaN</td>\n",
       "      <td>NaN</td>\n",
       "      <td>SKII</td>\n",
       "    </tr>\n",
       "    <tr>\n",
       "      <th>27594</th>\n",
       "      <td>2016/11/5</td>\n",
       "      <td>A535911851408</td>\n",
       "      <td>SK-II 11-11预售skii大眼眼霜sk2眼部修护精华霜淡化黑眼圈</td>\n",
       "      <td>590.0</td>\n",
       "      <td>NaN</td>\n",
       "      <td>NaN</td>\n",
       "      <td>SKII</td>\n",
       "    </tr>\n",
       "    <tr>\n",
       "      <th>27595</th>\n",
       "      <td>2016/11/5</td>\n",
       "      <td>A537027211850</td>\n",
       "      <td>SK-II 11-11预售skii前男友护肤面膜sk2精华面膜贴密集修护</td>\n",
       "      <td>1740.0</td>\n",
       "      <td>NaN</td>\n",
       "      <td>NaN</td>\n",
       "      <td>SKII</td>\n",
       "    </tr>\n",
       "    <tr>\n",
       "      <th>27596</th>\n",
       "      <td>2016/11/5</td>\n",
       "      <td>A538212160126</td>\n",
       "      <td>SK-II 11-11预售skiisk2神仙水护肤精华油面部套装滋润补水密集修</td>\n",
       "      <td>1190.0</td>\n",
       "      <td>NaN</td>\n",
       "      <td>NaN</td>\n",
       "      <td>SKII</td>\n",
       "    </tr>\n",
       "    <tr>\n",
       "      <th>27597</th>\n",
       "      <td>2016/11/5</td>\n",
       "      <td>A538677326709</td>\n",
       "      <td>SK-II【11-11】神仙水护肤精华油面部套装滋润补水密集修</td>\n",
       "      <td>1190.0</td>\n",
       "      <td>NaN</td>\n",
       "      <td>NaN</td>\n",
       "      <td>SKII</td>\n",
       "    </tr>\n",
       "  </tbody>\n",
       "</table>\n",
       "<p>27512 rows × 7 columns</p>\n",
       "</div>"
      ],
      "text/plain": [
       "      update_time             id                                    title  \\\n",
       "0      2016/11/14   A18164178225      CHANDO/自然堂 雪域精粹纯粹滋润霜50g 补水保湿 滋润水润面霜   \n",
       "1      2016/11/14   A18177105952     CHANDO/自然堂凝时鲜颜肌活乳液120ML 淡化细纹补水滋润专柜正品   \n",
       "2      2016/11/14   A18177226992     CHANDO/自然堂活泉保湿修护精华水（滋润型135ml 补水控油爽肤水   \n",
       "3      2016/11/14   A18178033846    CHANDO/自然堂 男士劲爽控油洁面膏 100g 深层清洁  男士洗面奶   \n",
       "4      2016/11/14   A18178045259       CHANDO/自然堂雪域精粹纯粹滋润霜（清爽型）50g补水保湿滋润霜   \n",
       "...           ...            ...                                      ...   \n",
       "27593   2016/11/5  A535642405757       SK-II【11-11】全新大眼眼霜skii放大双眼眼部修护精华紧致   \n",
       "27594   2016/11/5  A535911851408     SK-II 11-11预售skii大眼眼霜sk2眼部修护精华霜淡化黑眼圈   \n",
       "27595   2016/11/5  A537027211850     SK-II 11-11预售skii前男友护肤面膜sk2精华面膜贴密集修护   \n",
       "27596   2016/11/5  A538212160126  SK-II 11-11预售skiisk2神仙水护肤精华油面部套装滋润补水密集修   \n",
       "27597   2016/11/5  A538677326709          SK-II【11-11】神仙水护肤精华油面部套装滋润补水密集修   \n",
       "\n",
       "        price  sale_count  comment_count    店名  \n",
       "0       139.0     26719.0         2704.0   自然堂  \n",
       "1       194.0      8122.0         1492.0   自然堂  \n",
       "2        99.0     12668.0          589.0   自然堂  \n",
       "3        38.0     25805.0         4287.0   自然堂  \n",
       "4       139.0      5196.0          618.0   自然堂  \n",
       "...       ...         ...            ...   ...  \n",
       "27593   590.0         NaN            NaN  SKII  \n",
       "27594   590.0         NaN            NaN  SKII  \n",
       "27595  1740.0         NaN            NaN  SKII  \n",
       "27596  1190.0         NaN            NaN  SKII  \n",
       "27597  1190.0         NaN            NaN  SKII  \n",
       "\n",
       "[27512 rows x 7 columns]"
      ]
     },
     "execution_count": 7,
     "metadata": {},
     "output_type": "execute_result"
    }
   ],
   "source": [
    "# 查看数据集的维度变化 \n",
    "cosdata"
   ]
  },
  {
   "cell_type": "markdown",
   "metadata": {},
   "source": [
    "\n",
    "\n",
    "    说明：比较去重前的数据，可以发现 27598-27512 = 86 ，说明有86条数据是重复的，已经被删除\n",
    "\n",
    "注意：上述代码虽然删除了重复值，但索引未变，因此应用以下方法进行重置索引："
   ]
  },
  {
   "cell_type": "code",
   "execution_count": 8,
   "metadata": {},
   "outputs": [],
   "source": [
    "# 重置索引\n",
    "cosdata = cosdata.reset_index()"
   ]
  },
  {
   "cell_type": "markdown",
   "metadata": {},
   "source": [
    "## 2.2、缺失值处理\n",
    "\n",
    "首先查看缺失值：\n",
    "\n"
   ]
  },
  {
   "cell_type": "code",
   "execution_count": 9,
   "metadata": {},
   "outputs": [
    {
     "data": {
      "text/plain": [
       "index            False\n",
       "update_time      False\n",
       "id               False\n",
       "title            False\n",
       "price            False\n",
       "sale_count        True\n",
       "comment_count     True\n",
       "店名               False\n",
       "dtype: bool"
      ]
     },
     "execution_count": 9,
     "metadata": {},
     "output_type": "execute_result"
    }
   ],
   "source": [
    "# 查看缺失值\n",
    "cosdata.isnull().any()"
   ]
  },
  {
   "cell_type": "markdown",
   "metadata": {},
   "source": [
    "说明：从上述结果可以看出，有两列数据存在缺失值：sale_count, comment_count"
   ]
  },
  {
   "cell_type": "code",
   "execution_count": 10,
   "metadata": {},
   "outputs": [
    {
     "data": {
      "text/html": [
       "<div>\n",
       "<style scoped>\n",
       "    .dataframe tbody tr th:only-of-type {\n",
       "        vertical-align: middle;\n",
       "    }\n",
       "\n",
       "    .dataframe tbody tr th {\n",
       "        vertical-align: top;\n",
       "    }\n",
       "\n",
       "    .dataframe thead th {\n",
       "        text-align: right;\n",
       "    }\n",
       "</style>\n",
       "<table border=\"1\" class=\"dataframe\">\n",
       "  <thead>\n",
       "    <tr style=\"text-align: right;\">\n",
       "      <th></th>\n",
       "      <th>index</th>\n",
       "      <th>price</th>\n",
       "      <th>sale_count</th>\n",
       "      <th>comment_count</th>\n",
       "    </tr>\n",
       "  </thead>\n",
       "  <tbody>\n",
       "    <tr>\n",
       "      <th>count</th>\n",
       "      <td>27512.000000</td>\n",
       "      <td>27512.000000</td>\n",
       "      <td>2.516200e+04</td>\n",
       "      <td>25162.000000</td>\n",
       "    </tr>\n",
       "    <tr>\n",
       "      <th>mean</th>\n",
       "      <td>13797.150007</td>\n",
       "      <td>363.423512</td>\n",
       "      <td>1.231605e+04</td>\n",
       "      <td>1121.741197</td>\n",
       "    </tr>\n",
       "    <tr>\n",
       "      <th>std</th>\n",
       "      <td>7970.566409</td>\n",
       "      <td>614.876153</td>\n",
       "      <td>5.241236e+04</td>\n",
       "      <td>5277.781581</td>\n",
       "    </tr>\n",
       "    <tr>\n",
       "      <th>min</th>\n",
       "      <td>0.000000</td>\n",
       "      <td>1.000000</td>\n",
       "      <td>0.000000e+00</td>\n",
       "      <td>0.000000</td>\n",
       "    </tr>\n",
       "    <tr>\n",
       "      <th>25%</th>\n",
       "      <td>6896.750000</td>\n",
       "      <td>99.000000</td>\n",
       "      <td>2.780000e+02</td>\n",
       "      <td>21.000000</td>\n",
       "    </tr>\n",
       "    <tr>\n",
       "      <th>50%</th>\n",
       "      <td>13775.500000</td>\n",
       "      <td>205.000000</td>\n",
       "      <td>1.443000e+03</td>\n",
       "      <td>153.000000</td>\n",
       "    </tr>\n",
       "    <tr>\n",
       "      <th>75%</th>\n",
       "      <td>20715.250000</td>\n",
       "      <td>390.000000</td>\n",
       "      <td>6.353000e+03</td>\n",
       "      <td>669.000000</td>\n",
       "    </tr>\n",
       "    <tr>\n",
       "      <th>max</th>\n",
       "      <td>27597.000000</td>\n",
       "      <td>11100.000000</td>\n",
       "      <td>1.923160e+06</td>\n",
       "      <td>202930.000000</td>\n",
       "    </tr>\n",
       "  </tbody>\n",
       "</table>\n",
       "</div>"
      ],
      "text/plain": [
       "              index         price    sale_count  comment_count\n",
       "count  27512.000000  27512.000000  2.516200e+04   25162.000000\n",
       "mean   13797.150007    363.423512  1.231605e+04    1121.741197\n",
       "std     7970.566409    614.876153  5.241236e+04    5277.781581\n",
       "min        0.000000      1.000000  0.000000e+00       0.000000\n",
       "25%     6896.750000     99.000000  2.780000e+02      21.000000\n",
       "50%    13775.500000    205.000000  1.443000e+03     153.000000\n",
       "75%    20715.250000    390.000000  6.353000e+03     669.000000\n",
       "max    27597.000000  11100.000000  1.923160e+06  202930.000000"
      ]
     },
     "execution_count": 10,
     "metadata": {},
     "output_type": "execute_result"
    }
   ],
   "source": [
    "# 查看数据结构\n",
    "cosdata.describe()"
   ]
  },
  {
   "cell_type": "markdown",
   "metadata": {},
   "source": [
    "接下来要做的事情就是将缺失值用各列的众数去进行填充，首先，第一步是计算出各自相应列的众数\n",
    "\n"
   ]
  },
  {
   "cell_type": "code",
   "execution_count": 11,
   "metadata": {},
   "outputs": [
    {
     "data": {
      "text/plain": [
       "0    0.0\n",
       "Name: sale_count, dtype: float64"
      ]
     },
     "execution_count": 11,
     "metadata": {},
     "output_type": "execute_result"
    }
   ],
   "source": [
    "# 查看sale_count列的众数\n",
    "mode_sale = cosdata['sale_count'].mode()\n",
    "mode_sale"
   ]
  },
  {
   "cell_type": "code",
   "execution_count": 12,
   "metadata": {},
   "outputs": [
    {
     "data": {
      "text/plain": [
       "0    0.0\n",
       "Name: comment_count, dtype: float64"
      ]
     },
     "execution_count": 12,
     "metadata": {},
     "output_type": "execute_result"
    }
   ],
   "source": [
    "# 查看comment_count列的众数\n",
    "mode_sale = cosdata['comment_count'].mode()\n",
    "mode_sale"
   ]
  },
  {
   "cell_type": "markdown",
   "metadata": {},
   "source": [
    "说明：从上述结果可以看出，此处两列的众数均为0，且由标签数据含义可知销售量和评论数有可能存在为0的情况，因此使用0来填充缺失值"
   ]
  },
  {
   "cell_type": "code",
   "execution_count": 13,
   "metadata": {},
   "outputs": [],
   "source": [
    "cosdata = cosdata.fillna(0)"
   ]
  },
  {
   "cell_type": "code",
   "execution_count": 14,
   "metadata": {},
   "outputs": [
    {
     "data": {
      "text/plain": [
       "index            0\n",
       "update_time      0\n",
       "id               0\n",
       "title            0\n",
       "price            0\n",
       "sale_count       0\n",
       "comment_count    0\n",
       "店名               0\n",
       "dtype: int64"
      ]
     },
     "execution_count": 14,
     "metadata": {},
     "output_type": "execute_result"
    }
   ],
   "source": [
    "cosdata.isnull().sum()"
   ]
  },
  {
   "cell_type": "markdown",
   "metadata": {},
   "source": [
    "## 2.3、提取表格中有用信息并新增为列\n",
    "\n",
    "(1）对商品标题进行分词处理\n",
    "\n",
    "这里要使用jieba分词，首先要进行导包操作"
   ]
  },
  {
   "cell_type": "code",
   "execution_count": 15,
   "metadata": {},
   "outputs": [],
   "source": [
    "import jieba"
   ]
  },
  {
   "cell_type": "code",
   "execution_count": 16,
   "metadata": {},
   "outputs": [
    {
     "name": "stderr",
     "output_type": "stream",
     "text": [
      "Building prefix dict from the default dictionary ...\n",
      "Loading model from cache C:\\Users\\12240\\AppData\\Local\\Temp\\jieba.cache\n",
      "Loading model cost 0.572 seconds.\n",
      "Prefix dict has been built successfully.\n"
     ]
    }
   ],
   "source": [
    "  # 分词处理\n",
    " # 分词的结果放入title_cut集合中\n",
    "title_cut = []\n",
    "for i in cosdata.title:\n",
    "    j = jieba.lcut(i)\n",
    "    title_cut.append(j)"
   ]
  },
  {
   "cell_type": "code",
   "execution_count": 17,
   "metadata": {},
   "outputs": [],
   "source": [
    "# 将上述结果添加为data结果集中新的一列\n",
    "cosdata['item_name_cut'] = title_cut"
   ]
  },
  {
   "cell_type": "code",
   "execution_count": 18,
   "metadata": {},
   "outputs": [
    {
     "data": {
      "text/html": [
       "<div>\n",
       "<style scoped>\n",
       "    .dataframe tbody tr th:only-of-type {\n",
       "        vertical-align: middle;\n",
       "    }\n",
       "\n",
       "    .dataframe tbody tr th {\n",
       "        vertical-align: top;\n",
       "    }\n",
       "\n",
       "    .dataframe thead th {\n",
       "        text-align: right;\n",
       "    }\n",
       "</style>\n",
       "<table border=\"1\" class=\"dataframe\">\n",
       "  <thead>\n",
       "    <tr style=\"text-align: right;\">\n",
       "      <th></th>\n",
       "      <th>title</th>\n",
       "      <th>item_name_cut</th>\n",
       "    </tr>\n",
       "  </thead>\n",
       "  <tbody>\n",
       "    <tr>\n",
       "      <th>0</th>\n",
       "      <td>CHANDO/自然堂 雪域精粹纯粹滋润霜50g 补水保湿 滋润水润面霜</td>\n",
       "      <td>[CHANDO, /, 自然, 堂,  , 雪域, 精粹, 纯粹, 滋润霜, 50g,  ,...</td>\n",
       "    </tr>\n",
       "    <tr>\n",
       "      <th>1</th>\n",
       "      <td>CHANDO/自然堂凝时鲜颜肌活乳液120ML 淡化细纹补水滋润专柜正品</td>\n",
       "      <td>[CHANDO, /, 自然, 堂, 凝, 时鲜, 颜肌活, 乳液, 120ML,  , 淡...</td>\n",
       "    </tr>\n",
       "    <tr>\n",
       "      <th>2</th>\n",
       "      <td>CHANDO/自然堂活泉保湿修护精华水（滋润型135ml 补水控油爽肤水</td>\n",
       "      <td>[CHANDO, /, 自然, 堂, 活泉, 保湿, 修护, 精华, 水, （, 滋润, 型...</td>\n",
       "    </tr>\n",
       "    <tr>\n",
       "      <th>3</th>\n",
       "      <td>CHANDO/自然堂 男士劲爽控油洁面膏 100g 深层清洁  男士洗面奶</td>\n",
       "      <td>[CHANDO, /, 自然, 堂,  , 男士, 劲爽, 控油, 洁面膏,  , 100g...</td>\n",
       "    </tr>\n",
       "    <tr>\n",
       "      <th>4</th>\n",
       "      <td>CHANDO/自然堂雪域精粹纯粹滋润霜（清爽型）50g补水保湿滋润霜</td>\n",
       "      <td>[CHANDO, /, 自然, 堂, 雪域, 精粹, 纯粹, 滋润霜, （, 清爽型, ）,...</td>\n",
       "    </tr>\n",
       "  </tbody>\n",
       "</table>\n",
       "</div>"
      ],
      "text/plain": [
       "                                   title  \\\n",
       "0    CHANDO/自然堂 雪域精粹纯粹滋润霜50g 补水保湿 滋润水润面霜   \n",
       "1   CHANDO/自然堂凝时鲜颜肌活乳液120ML 淡化细纹补水滋润专柜正品   \n",
       "2   CHANDO/自然堂活泉保湿修护精华水（滋润型135ml 补水控油爽肤水   \n",
       "3  CHANDO/自然堂 男士劲爽控油洁面膏 100g 深层清洁  男士洗面奶   \n",
       "4     CHANDO/自然堂雪域精粹纯粹滋润霜（清爽型）50g补水保湿滋润霜   \n",
       "\n",
       "                                       item_name_cut  \n",
       "0  [CHANDO, /, 自然, 堂,  , 雪域, 精粹, 纯粹, 滋润霜, 50g,  ,...  \n",
       "1  [CHANDO, /, 自然, 堂, 凝, 时鲜, 颜肌活, 乳液, 120ML,  , 淡...  \n",
       "2  [CHANDO, /, 自然, 堂, 活泉, 保湿, 修护, 精华, 水, （, 滋润, 型...  \n",
       "3  [CHANDO, /, 自然, 堂,  , 男士, 劲爽, 控油, 洁面膏,  , 100g...  \n",
       "4  [CHANDO, /, 自然, 堂, 雪域, 精粹, 纯粹, 滋润霜, （, 清爽型, ）,...  "
      ]
     },
     "execution_count": 18,
     "metadata": {},
     "output_type": "execute_result"
    }
   ],
   "source": [
    "cosdata[['title','item_name_cut']].head()"
   ]
  },
  {
   "cell_type": "code",
   "execution_count": 19,
   "metadata": {},
   "outputs": [
    {
     "data": {
      "text/plain": [
       "'护肤品\\t套装\\t套装\\t\\t\\t\\t\\t\\t\\t\\n护肤品\\t乳液类\\t乳液\\t美白乳\\t润肤乳\\t凝乳\\t柔肤液\\t亮肤乳\\t菁华乳\\t修护乳\\n护肤品\\t眼部护理\\t眼霜\\t眼部精华\\t眼膜\\t\\t\\t\\t\\t\\n护肤品\\t面膜类\\t面膜\\t\\t\\t\\t\\t\\t\\t\\t\\t\\t\\t\\t\\t\\n护肤品\\t清洁类\\t洗面\\t洁面\\t清洁\\t卸妆\\t洁颜\\t洗颜\\t去角质\\t磨砂\\t\\t\\t\\t\\t\\t\\n护肤品\\t化妆水\\t化妆水\\t爽肤水\\t柔肤水\\t补水露\\t凝露\\t柔肤液\\t精粹水\\t亮肤水\\t润肤水\\t保湿水\\t菁华水\\t保湿喷雾\\t舒缓喷雾\\n护肤品\\t面霜类\\t面霜\\t日霜\\t晚霜\\t柔肤霜\\t滋润霜\\t保湿霜\\t凝霜\\t日间霜\\t晚间霜\\t乳霜\\t修护霜\\t亮肤霜\\t底霜\\t菁华霜\\n护肤品\\t精华类\\t精华液\\t精华水\\t精华露\\t精华素\\t\\t\\t\\t\\t\\t\\t\\t\\t\\t\\n护肤品\\t防晒类\\t防晒霜\\t防晒喷雾\\t\\t\\t\\t\\t\\t\\t\\t\\t\\t\\t\\t\\n化妆品\\t口红类\\t唇釉\\t口红\\t唇彩\\t\\t\\t\\t\\t\\t\\t\\t\\t\\t\\t\\n化妆品\\t底妆类\\t散粉\\t蜜粉\\t粉底液\\t定妆粉 \\t气垫\\t粉饼\\tBB\\tCC\\t遮瑕\\t粉霜\\t粉底膏\\t粉底霜\\t\\t\\n化妆品\\t眼部彩妆\\t眉粉\\t染眉膏\\t眼线\\t眼影\\t睫毛膏\\t\\t\\t\\t\\t\\t\\t\\t\\t\\n化妆品\\t修容类\\t鼻影\\t修容粉\\t高光\\t腮红\\t\\t\\t\\t\\t\\t\\t\\t\\t\\t\\n其他\\t其他\\t其他'"
      ]
     },
     "execution_count": 19,
     "metadata": {},
     "output_type": "execute_result"
    }
   ],
   "source": [
    "# 给商品添加分类\n",
    "sub_type = []   #子类别\n",
    "main_type = []  #主类别\n",
    "f = open('C:/Users/12240/Desktop/category.txt',encoding = 'utf-8-sig')\n",
    "basic_config_cosdata = f.read()\n",
    "basic_config_cosdata\n",
    "#basic_config_data = \"\"\"护肤品    套装    套装                            \n",
    "# 护肤品    乳液类    乳液    美白乳    润肤乳    凝乳    柔肤液    亮肤乳    菁华乳    修护乳\n",
    "# 护肤品    眼部护理    眼霜    眼部精华    眼膜                    \n",
    "# 护肤品    面膜类    面膜                                                    \n",
    "# 护肤品    清洁类    洗面    洁面    清洁    卸妆    洁颜    洗颜    去角质    磨砂                        \n",
    "# 护肤品    化妆水    化妆水    爽肤水    柔肤水    补水露    凝露    柔肤液    精粹水    亮肤水    润肤水    保湿水    菁华水    保湿喷雾    舒缓喷雾\n",
    "# 护肤品    面霜类    面霜    日霜    晚霜    柔肤霜    滋润霜    保湿霜    凝霜    日间霜    晚间霜    乳霜    修护霜    亮肤霜    底霜    菁华霜\n",
    "# 护肤品    精华类    精华液    精华水    精华露    精华素                                        \n",
    "# 护肤品    防晒类    防晒霜    防晒喷雾                                                \n",
    "# 化妆品    口红类    唇釉    口红    唇彩                                            \n",
    "# 化妆品    底妆类    散粉    蜜粉    粉底液    定妆粉     气垫    粉饼    BB    CC    遮瑕    粉霜    粉底膏    粉底霜        \n",
    "# 化妆品    眼部彩妆    眉粉    染眉膏    眼线    眼影    睫毛膏                                    \n",
    "# 化妆品    修容类    鼻影    修容粉    高光    腮红                                        \n",
    "# 其他    其他    其他\"\"\""
   ]
  },
  {
   "cell_type": "code",
   "execution_count": 20,
   "metadata": {},
   "outputs": [],
   "source": [
    "# 1，首选定义一个map集合\n",
    "category_config_map = ()\n",
    "# 2，循环每一行数据\n",
    "for config_line in basic_config_cosdata.split('\\n'):\n",
    "    # 再拆分出此行中的每一列\n",
    "    basic_config_list = config_line.strip().strip('\\n').strip('\\t').split('\\t')\n",
    "#     print(basic_category_list)\n",
    "    # 取第一列\n",
    "    main_category = basic_config_list[0]\n",
    "#     print(main_category)\n",
    "    # 取第二列\n",
    "    sub_category = basic_config_list[1]\n",
    "#     print(sub_category)\n",
    "    # 从最后一列开始取到前2列\n",
    "    unit_category_list = basic_config_list[2:]\n",
    "#     print(unit_category_list)\n",
    "\n",
    "    # 循环unit_category_list列表\n",
    "    for unit_category in unit_category_list:\n",
    "        unit_category = unit_category.strip('\\t').strip('')\n",
    "            # 拼装成map集合\n",
    "        \n",
    "#     print('________________________')\n"
   ]
  },
  {
   "cell_type": "code",
   "execution_count": 21,
   "metadata": {},
   "outputs": [],
   "source": [
    "# 循环数据集中的每条记录\n",
    "for i in range(len(cosdata)):\n",
    "    exist = False\n",
    "    # 取出item_name_cut列中的每条记录的值\n",
    "    for temp in cosdata.item_name_cut[i]:\n",
    "        # 与map中类别进匹配，如果存在\n",
    "        if temp in category_config_map:\n",
    "            # 则匹配对应的子类\n",
    "            sub_type.append(category_config_map.get(temp)[1])\n",
    "             # 则匹配对应的主类\n",
    "            main_type.append(category_config_map.get(temp)[0])\n",
    "                \n",
    "            # 标记类别存在\n",
    "            exist = True\n",
    "            break\n",
    "    # 如查不存在，则标记为其他\n",
    "    if not exist:\n",
    "        sub_type.append('其他')\n",
    "        main_type.append('其他')"
   ]
  },
  {
   "cell_type": "code",
   "execution_count": 22,
   "metadata": {},
   "outputs": [
    {
     "name": "stdout",
     "output_type": "stream",
     "text": [
      "27512 27512 27512\n"
     ]
    }
   ],
   "source": [
    "print(len(cosdata),len(sub_type),len(main_type))"
   ]
  },
  {
   "cell_type": "code",
   "execution_count": 23,
   "metadata": {},
   "outputs": [],
   "source": [
    "cosdata['sub_type'] = sub_type\n",
    "cosdata['main_type'] = main_type"
   ]
  },
  {
   "cell_type": "code",
   "execution_count": 24,
   "metadata": {},
   "outputs": [
    {
     "data": {
      "text/plain": [
       "其他    27512\n",
       "Name: sub_type, dtype: int64"
      ]
     },
     "execution_count": 24,
     "metadata": {},
     "output_type": "execute_result"
    }
   ],
   "source": [
    "cosdata['sub_type'].value_counts()"
   ]
  },
  {
   "cell_type": "code",
   "execution_count": 25,
   "metadata": {},
   "outputs": [
    {
     "data": {
      "text/plain": [
       "其他    27512\n",
       "Name: main_type, dtype: int64"
      ]
     },
     "execution_count": 25,
     "metadata": {},
     "output_type": "execute_result"
    }
   ],
   "source": [
    "cosdata['main_type'].value_counts()"
   ]
  },
  {
   "cell_type": "markdown",
   "metadata": {},
   "source": [
    "将“是否男士专用”新增为一列"
   ]
  },
  {
   "cell_type": "code",
   "execution_count": 26,
   "metadata": {},
   "outputs": [],
   "source": [
    "man = []\n",
    "for i in range(len(cosdata)):\n",
    "    if \"男\" in cosdata['title'][i]:\n",
    "        man.append(\"是\")\n",
    "    else:\n",
    "        man.append('否')"
   ]
  },
  {
   "cell_type": "code",
   "execution_count": 27,
   "metadata": {},
   "outputs": [
    {
     "data": {
      "text/plain": [
       "否    24942\n",
       "是     2570\n",
       "Name: 是否男士专用, dtype: int64"
      ]
     },
     "execution_count": 27,
     "metadata": {},
     "output_type": "execute_result"
    }
   ],
   "source": [
    "# 将“是否男士专用”新增为一列\n",
    "cosdata['是否男士专用'] = man\n",
    "# 查看该列数据分布\n",
    "cosdata['是否男士专用'].value_counts()"
   ]
  },
  {
   "cell_type": "markdown",
   "metadata": {},
   "source": [
    "新增销售额、购买日期（天）为一列\n",
    "\n",
    "新增销售额为一列"
   ]
  },
  {
   "cell_type": "code",
   "execution_count": 28,
   "metadata": {},
   "outputs": [
    {
     "data": {
      "text/html": [
       "<div>\n",
       "<style scoped>\n",
       "    .dataframe tbody tr th:only-of-type {\n",
       "        vertical-align: middle;\n",
       "    }\n",
       "\n",
       "    .dataframe tbody tr th {\n",
       "        vertical-align: top;\n",
       "    }\n",
       "\n",
       "    .dataframe thead th {\n",
       "        text-align: right;\n",
       "    }\n",
       "</style>\n",
       "<table border=\"1\" class=\"dataframe\">\n",
       "  <thead>\n",
       "    <tr style=\"text-align: right;\">\n",
       "      <th></th>\n",
       "      <th>index</th>\n",
       "      <th>update_time</th>\n",
       "      <th>id</th>\n",
       "      <th>title</th>\n",
       "      <th>price</th>\n",
       "      <th>sale_count</th>\n",
       "      <th>comment_count</th>\n",
       "      <th>店名</th>\n",
       "      <th>item_name_cut</th>\n",
       "      <th>sub_type</th>\n",
       "      <th>main_type</th>\n",
       "      <th>是否男士专用</th>\n",
       "      <th>销售额</th>\n",
       "    </tr>\n",
       "  </thead>\n",
       "  <tbody>\n",
       "    <tr>\n",
       "      <th>0</th>\n",
       "      <td>0</td>\n",
       "      <td>2016/11/14</td>\n",
       "      <td>A18164178225</td>\n",
       "      <td>CHANDO/自然堂 雪域精粹纯粹滋润霜50g 补水保湿 滋润水润面霜</td>\n",
       "      <td>139.0</td>\n",
       "      <td>26719.0</td>\n",
       "      <td>2704.0</td>\n",
       "      <td>自然堂</td>\n",
       "      <td>[CHANDO, /, 自然, 堂,  , 雪域, 精粹, 纯粹, 滋润霜, 50g,  ,...</td>\n",
       "      <td>其他</td>\n",
       "      <td>其他</td>\n",
       "      <td>否</td>\n",
       "      <td>3713941.0</td>\n",
       "    </tr>\n",
       "    <tr>\n",
       "      <th>1</th>\n",
       "      <td>1</td>\n",
       "      <td>2016/11/14</td>\n",
       "      <td>A18177105952</td>\n",
       "      <td>CHANDO/自然堂凝时鲜颜肌活乳液120ML 淡化细纹补水滋润专柜正品</td>\n",
       "      <td>194.0</td>\n",
       "      <td>8122.0</td>\n",
       "      <td>1492.0</td>\n",
       "      <td>自然堂</td>\n",
       "      <td>[CHANDO, /, 自然, 堂, 凝, 时鲜, 颜肌活, 乳液, 120ML,  , 淡...</td>\n",
       "      <td>其他</td>\n",
       "      <td>其他</td>\n",
       "      <td>否</td>\n",
       "      <td>1575668.0</td>\n",
       "    </tr>\n",
       "    <tr>\n",
       "      <th>2</th>\n",
       "      <td>2</td>\n",
       "      <td>2016/11/14</td>\n",
       "      <td>A18177226992</td>\n",
       "      <td>CHANDO/自然堂活泉保湿修护精华水（滋润型135ml 补水控油爽肤水</td>\n",
       "      <td>99.0</td>\n",
       "      <td>12668.0</td>\n",
       "      <td>589.0</td>\n",
       "      <td>自然堂</td>\n",
       "      <td>[CHANDO, /, 自然, 堂, 活泉, 保湿, 修护, 精华, 水, （, 滋润, 型...</td>\n",
       "      <td>其他</td>\n",
       "      <td>其他</td>\n",
       "      <td>否</td>\n",
       "      <td>1254132.0</td>\n",
       "    </tr>\n",
       "    <tr>\n",
       "      <th>3</th>\n",
       "      <td>3</td>\n",
       "      <td>2016/11/14</td>\n",
       "      <td>A18178033846</td>\n",
       "      <td>CHANDO/自然堂 男士劲爽控油洁面膏 100g 深层清洁  男士洗面奶</td>\n",
       "      <td>38.0</td>\n",
       "      <td>25805.0</td>\n",
       "      <td>4287.0</td>\n",
       "      <td>自然堂</td>\n",
       "      <td>[CHANDO, /, 自然, 堂,  , 男士, 劲爽, 控油, 洁面膏,  , 100g...</td>\n",
       "      <td>其他</td>\n",
       "      <td>其他</td>\n",
       "      <td>是</td>\n",
       "      <td>980590.0</td>\n",
       "    </tr>\n",
       "    <tr>\n",
       "      <th>4</th>\n",
       "      <td>4</td>\n",
       "      <td>2016/11/14</td>\n",
       "      <td>A18178045259</td>\n",
       "      <td>CHANDO/自然堂雪域精粹纯粹滋润霜（清爽型）50g补水保湿滋润霜</td>\n",
       "      <td>139.0</td>\n",
       "      <td>5196.0</td>\n",
       "      <td>618.0</td>\n",
       "      <td>自然堂</td>\n",
       "      <td>[CHANDO, /, 自然, 堂, 雪域, 精粹, 纯粹, 滋润霜, （, 清爽型, ）,...</td>\n",
       "      <td>其他</td>\n",
       "      <td>其他</td>\n",
       "      <td>否</td>\n",
       "      <td>722244.0</td>\n",
       "    </tr>\n",
       "    <tr>\n",
       "      <th>...</th>\n",
       "      <td>...</td>\n",
       "      <td>...</td>\n",
       "      <td>...</td>\n",
       "      <td>...</td>\n",
       "      <td>...</td>\n",
       "      <td>...</td>\n",
       "      <td>...</td>\n",
       "      <td>...</td>\n",
       "      <td>...</td>\n",
       "      <td>...</td>\n",
       "      <td>...</td>\n",
       "      <td>...</td>\n",
       "      <td>...</td>\n",
       "    </tr>\n",
       "    <tr>\n",
       "      <th>27507</th>\n",
       "      <td>27593</td>\n",
       "      <td>2016/11/5</td>\n",
       "      <td>A535642405757</td>\n",
       "      <td>SK-II【11-11】全新大眼眼霜skii放大双眼眼部修护精华紧致</td>\n",
       "      <td>590.0</td>\n",
       "      <td>0.0</td>\n",
       "      <td>0.0</td>\n",
       "      <td>SKII</td>\n",
       "      <td>[SK, -, II, 【, 11, -, 11, 】, 全新, 大, 眼, 眼霜, ski...</td>\n",
       "      <td>其他</td>\n",
       "      <td>其他</td>\n",
       "      <td>否</td>\n",
       "      <td>0.0</td>\n",
       "    </tr>\n",
       "    <tr>\n",
       "      <th>27508</th>\n",
       "      <td>27594</td>\n",
       "      <td>2016/11/5</td>\n",
       "      <td>A535911851408</td>\n",
       "      <td>SK-II 11-11预售skii大眼眼霜sk2眼部修护精华霜淡化黑眼圈</td>\n",
       "      <td>590.0</td>\n",
       "      <td>0.0</td>\n",
       "      <td>0.0</td>\n",
       "      <td>SKII</td>\n",
       "      <td>[SK, -, II,  , 11, -, 11, 预售, skii, 大眼, 眼霜, sk...</td>\n",
       "      <td>其他</td>\n",
       "      <td>其他</td>\n",
       "      <td>否</td>\n",
       "      <td>0.0</td>\n",
       "    </tr>\n",
       "    <tr>\n",
       "      <th>27509</th>\n",
       "      <td>27595</td>\n",
       "      <td>2016/11/5</td>\n",
       "      <td>A537027211850</td>\n",
       "      <td>SK-II 11-11预售skii前男友护肤面膜sk2精华面膜贴密集修护</td>\n",
       "      <td>1740.0</td>\n",
       "      <td>0.0</td>\n",
       "      <td>0.0</td>\n",
       "      <td>SKII</td>\n",
       "      <td>[SK, -, II,  , 11, -, 11, 预售, skii, 前男友, 护肤, 面...</td>\n",
       "      <td>其他</td>\n",
       "      <td>其他</td>\n",
       "      <td>是</td>\n",
       "      <td>0.0</td>\n",
       "    </tr>\n",
       "    <tr>\n",
       "      <th>27510</th>\n",
       "      <td>27596</td>\n",
       "      <td>2016/11/5</td>\n",
       "      <td>A538212160126</td>\n",
       "      <td>SK-II 11-11预售skiisk2神仙水护肤精华油面部套装滋润补水密集修</td>\n",
       "      <td>1190.0</td>\n",
       "      <td>0.0</td>\n",
       "      <td>0.0</td>\n",
       "      <td>SKII</td>\n",
       "      <td>[SK, -, II,  , 11, -, 11, 预售, skiisk2, 神仙, 水, ...</td>\n",
       "      <td>其他</td>\n",
       "      <td>其他</td>\n",
       "      <td>否</td>\n",
       "      <td>0.0</td>\n",
       "    </tr>\n",
       "    <tr>\n",
       "      <th>27511</th>\n",
       "      <td>27597</td>\n",
       "      <td>2016/11/5</td>\n",
       "      <td>A538677326709</td>\n",
       "      <td>SK-II【11-11】神仙水护肤精华油面部套装滋润补水密集修</td>\n",
       "      <td>1190.0</td>\n",
       "      <td>0.0</td>\n",
       "      <td>0.0</td>\n",
       "      <td>SKII</td>\n",
       "      <td>[SK, -, II, 【, 11, -, 11, 】, 神仙, 水, 护肤, 精华, 油,...</td>\n",
       "      <td>其他</td>\n",
       "      <td>其他</td>\n",
       "      <td>否</td>\n",
       "      <td>0.0</td>\n",
       "    </tr>\n",
       "  </tbody>\n",
       "</table>\n",
       "<p>27512 rows × 13 columns</p>\n",
       "</div>"
      ],
      "text/plain": [
       "       index update_time             id  \\\n",
       "0          0  2016/11/14   A18164178225   \n",
       "1          1  2016/11/14   A18177105952   \n",
       "2          2  2016/11/14   A18177226992   \n",
       "3          3  2016/11/14   A18178033846   \n",
       "4          4  2016/11/14   A18178045259   \n",
       "...      ...         ...            ...   \n",
       "27507  27593   2016/11/5  A535642405757   \n",
       "27508  27594   2016/11/5  A535911851408   \n",
       "27509  27595   2016/11/5  A537027211850   \n",
       "27510  27596   2016/11/5  A538212160126   \n",
       "27511  27597   2016/11/5  A538677326709   \n",
       "\n",
       "                                         title   price  sale_count  \\\n",
       "0          CHANDO/自然堂 雪域精粹纯粹滋润霜50g 补水保湿 滋润水润面霜   139.0     26719.0   \n",
       "1         CHANDO/自然堂凝时鲜颜肌活乳液120ML 淡化细纹补水滋润专柜正品   194.0      8122.0   \n",
       "2         CHANDO/自然堂活泉保湿修护精华水（滋润型135ml 补水控油爽肤水    99.0     12668.0   \n",
       "3        CHANDO/自然堂 男士劲爽控油洁面膏 100g 深层清洁  男士洗面奶    38.0     25805.0   \n",
       "4           CHANDO/自然堂雪域精粹纯粹滋润霜（清爽型）50g补水保湿滋润霜   139.0      5196.0   \n",
       "...                                        ...     ...         ...   \n",
       "27507       SK-II【11-11】全新大眼眼霜skii放大双眼眼部修护精华紧致   590.0         0.0   \n",
       "27508     SK-II 11-11预售skii大眼眼霜sk2眼部修护精华霜淡化黑眼圈   590.0         0.0   \n",
       "27509     SK-II 11-11预售skii前男友护肤面膜sk2精华面膜贴密集修护  1740.0         0.0   \n",
       "27510  SK-II 11-11预售skiisk2神仙水护肤精华油面部套装滋润补水密集修  1190.0         0.0   \n",
       "27511          SK-II【11-11】神仙水护肤精华油面部套装滋润补水密集修  1190.0         0.0   \n",
       "\n",
       "       comment_count    店名                                      item_name_cut  \\\n",
       "0             2704.0   自然堂  [CHANDO, /, 自然, 堂,  , 雪域, 精粹, 纯粹, 滋润霜, 50g,  ,...   \n",
       "1             1492.0   自然堂  [CHANDO, /, 自然, 堂, 凝, 时鲜, 颜肌活, 乳液, 120ML,  , 淡...   \n",
       "2              589.0   自然堂  [CHANDO, /, 自然, 堂, 活泉, 保湿, 修护, 精华, 水, （, 滋润, 型...   \n",
       "3             4287.0   自然堂  [CHANDO, /, 自然, 堂,  , 男士, 劲爽, 控油, 洁面膏,  , 100g...   \n",
       "4              618.0   自然堂  [CHANDO, /, 自然, 堂, 雪域, 精粹, 纯粹, 滋润霜, （, 清爽型, ）,...   \n",
       "...              ...   ...                                                ...   \n",
       "27507            0.0  SKII  [SK, -, II, 【, 11, -, 11, 】, 全新, 大, 眼, 眼霜, ski...   \n",
       "27508            0.0  SKII  [SK, -, II,  , 11, -, 11, 预售, skii, 大眼, 眼霜, sk...   \n",
       "27509            0.0  SKII  [SK, -, II,  , 11, -, 11, 预售, skii, 前男友, 护肤, 面...   \n",
       "27510            0.0  SKII  [SK, -, II,  , 11, -, 11, 预售, skiisk2, 神仙, 水, ...   \n",
       "27511            0.0  SKII  [SK, -, II, 【, 11, -, 11, 】, 神仙, 水, 护肤, 精华, 油,...   \n",
       "\n",
       "      sub_type main_type 是否男士专用        销售额  \n",
       "0           其他        其他      否  3713941.0  \n",
       "1           其他        其他      否  1575668.0  \n",
       "2           其他        其他      否  1254132.0  \n",
       "3           其他        其他      是   980590.0  \n",
       "4           其他        其他      否   722244.0  \n",
       "...        ...       ...    ...        ...  \n",
       "27507       其他        其他      否        0.0  \n",
       "27508       其他        其他      否        0.0  \n",
       "27509       其他        其他      是        0.0  \n",
       "27510       其他        其他      否        0.0  \n",
       "27511       其他        其他      否        0.0  \n",
       "\n",
       "[27512 rows x 13 columns]"
      ]
     },
     "execution_count": 28,
     "metadata": {},
     "output_type": "execute_result"
    }
   ],
   "source": [
    "# 销售额=销售量*价格\n",
    "cosdata['销售额'] = cosdata['price']*cosdata['sale_count']\n",
    "cosdata"
   ]
  },
  {
   "cell_type": "markdown",
   "metadata": {},
   "source": [
    "新增购买日期为一列"
   ]
  },
  {
   "cell_type": "code",
   "execution_count": 29,
   "metadata": {},
   "outputs": [
    {
     "data": {
      "text/plain": [
       "0       2016-11-14\n",
       "1       2016-11-14\n",
       "2       2016-11-14\n",
       "3       2016-11-14\n",
       "4       2016-11-14\n",
       "           ...    \n",
       "27507   2016-11-05\n",
       "27508   2016-11-05\n",
       "27509   2016-11-05\n",
       "27510   2016-11-05\n",
       "27511   2016-11-05\n",
       "Name: update_time, Length: 27512, dtype: datetime64[ns]"
      ]
     },
     "execution_count": 29,
     "metadata": {},
     "output_type": "execute_result"
    }
   ],
   "source": [
    "# 转换时间格式\n",
    "cosdata['update_time'] = pd.to_datetime(cosdata['update_time'])\n",
    "# 查看\n",
    "cosdata['update_time']"
   ]
  },
  {
   "cell_type": "code",
   "execution_count": 30,
   "metadata": {},
   "outputs": [],
   "source": [
    "# 将时间设置为新的index\n",
    "cosdata = cosdata.set_index('update_time')"
   ]
  },
  {
   "cell_type": "code",
   "execution_count": 31,
   "metadata": {},
   "outputs": [
    {
     "data": {
      "text/plain": [
       "update_time\n",
       "2016-11-14    14\n",
       "2016-11-14    14\n",
       "2016-11-14    14\n",
       "2016-11-14    14\n",
       "2016-11-14    14\n",
       "              ..\n",
       "2016-11-05     5\n",
       "2016-11-05     5\n",
       "2016-11-05     5\n",
       "2016-11-05     5\n",
       "2016-11-05     5\n",
       "Name: 天, Length: 27512, dtype: int64"
      ]
     },
     "execution_count": 31,
     "metadata": {},
     "output_type": "execute_result"
    }
   ],
   "source": [
    "# 新增时间“天”为一列\n",
    "cosdata['天'] = cosdata.index.day\n",
    "cosdata['天']"
   ]
  },
  {
   "cell_type": "code",
   "execution_count": 32,
   "metadata": {},
   "outputs": [],
   "source": [
    "# 删除中文分词的一列\n",
    "del cosdata['item_name_cut']\n",
    "del cosdata['id']\n",
    "del cosdata['index']"
   ]
  },
  {
   "cell_type": "code",
   "execution_count": 33,
   "metadata": {},
   "outputs": [
    {
     "data": {
      "text/html": [
       "<div>\n",
       "<style scoped>\n",
       "    .dataframe tbody tr th:only-of-type {\n",
       "        vertical-align: middle;\n",
       "    }\n",
       "\n",
       "    .dataframe tbody tr th {\n",
       "        vertical-align: top;\n",
       "    }\n",
       "\n",
       "    .dataframe thead th {\n",
       "        text-align: right;\n",
       "    }\n",
       "</style>\n",
       "<table border=\"1\" class=\"dataframe\">\n",
       "  <thead>\n",
       "    <tr style=\"text-align: right;\">\n",
       "      <th></th>\n",
       "      <th>title</th>\n",
       "      <th>price</th>\n",
       "      <th>sale_count</th>\n",
       "      <th>comment_count</th>\n",
       "      <th>店名</th>\n",
       "      <th>sub_type</th>\n",
       "      <th>main_type</th>\n",
       "      <th>是否男士专用</th>\n",
       "      <th>销售额</th>\n",
       "      <th>天</th>\n",
       "    </tr>\n",
       "    <tr>\n",
       "      <th>update_time</th>\n",
       "      <th></th>\n",
       "      <th></th>\n",
       "      <th></th>\n",
       "      <th></th>\n",
       "      <th></th>\n",
       "      <th></th>\n",
       "      <th></th>\n",
       "      <th></th>\n",
       "      <th></th>\n",
       "      <th></th>\n",
       "    </tr>\n",
       "  </thead>\n",
       "  <tbody>\n",
       "    <tr>\n",
       "      <th>2016-11-14</th>\n",
       "      <td>CHANDO/自然堂 雪域精粹纯粹滋润霜50g 补水保湿 滋润水润面霜</td>\n",
       "      <td>139.0</td>\n",
       "      <td>26719.0</td>\n",
       "      <td>2704.0</td>\n",
       "      <td>自然堂</td>\n",
       "      <td>其他</td>\n",
       "      <td>其他</td>\n",
       "      <td>否</td>\n",
       "      <td>3713941.0</td>\n",
       "      <td>14</td>\n",
       "    </tr>\n",
       "    <tr>\n",
       "      <th>2016-11-14</th>\n",
       "      <td>CHANDO/自然堂凝时鲜颜肌活乳液120ML 淡化细纹补水滋润专柜正品</td>\n",
       "      <td>194.0</td>\n",
       "      <td>8122.0</td>\n",
       "      <td>1492.0</td>\n",
       "      <td>自然堂</td>\n",
       "      <td>其他</td>\n",
       "      <td>其他</td>\n",
       "      <td>否</td>\n",
       "      <td>1575668.0</td>\n",
       "      <td>14</td>\n",
       "    </tr>\n",
       "    <tr>\n",
       "      <th>2016-11-14</th>\n",
       "      <td>CHANDO/自然堂活泉保湿修护精华水（滋润型135ml 补水控油爽肤水</td>\n",
       "      <td>99.0</td>\n",
       "      <td>12668.0</td>\n",
       "      <td>589.0</td>\n",
       "      <td>自然堂</td>\n",
       "      <td>其他</td>\n",
       "      <td>其他</td>\n",
       "      <td>否</td>\n",
       "      <td>1254132.0</td>\n",
       "      <td>14</td>\n",
       "    </tr>\n",
       "    <tr>\n",
       "      <th>2016-11-14</th>\n",
       "      <td>CHANDO/自然堂 男士劲爽控油洁面膏 100g 深层清洁  男士洗面奶</td>\n",
       "      <td>38.0</td>\n",
       "      <td>25805.0</td>\n",
       "      <td>4287.0</td>\n",
       "      <td>自然堂</td>\n",
       "      <td>其他</td>\n",
       "      <td>其他</td>\n",
       "      <td>是</td>\n",
       "      <td>980590.0</td>\n",
       "      <td>14</td>\n",
       "    </tr>\n",
       "    <tr>\n",
       "      <th>2016-11-14</th>\n",
       "      <td>CHANDO/自然堂雪域精粹纯粹滋润霜（清爽型）50g补水保湿滋润霜</td>\n",
       "      <td>139.0</td>\n",
       "      <td>5196.0</td>\n",
       "      <td>618.0</td>\n",
       "      <td>自然堂</td>\n",
       "      <td>其他</td>\n",
       "      <td>其他</td>\n",
       "      <td>否</td>\n",
       "      <td>722244.0</td>\n",
       "      <td>14</td>\n",
       "    </tr>\n",
       "  </tbody>\n",
       "</table>\n",
       "</div>"
      ],
      "text/plain": [
       "                                             title  price  sale_count  \\\n",
       "update_time                                                             \n",
       "2016-11-14     CHANDO/自然堂 雪域精粹纯粹滋润霜50g 补水保湿 滋润水润面霜  139.0     26719.0   \n",
       "2016-11-14    CHANDO/自然堂凝时鲜颜肌活乳液120ML 淡化细纹补水滋润专柜正品  194.0      8122.0   \n",
       "2016-11-14    CHANDO/自然堂活泉保湿修护精华水（滋润型135ml 补水控油爽肤水   99.0     12668.0   \n",
       "2016-11-14   CHANDO/自然堂 男士劲爽控油洁面膏 100g 深层清洁  男士洗面奶   38.0     25805.0   \n",
       "2016-11-14      CHANDO/自然堂雪域精粹纯粹滋润霜（清爽型）50g补水保湿滋润霜  139.0      5196.0   \n",
       "\n",
       "             comment_count   店名 sub_type main_type 是否男士专用        销售额   天  \n",
       "update_time                                                               \n",
       "2016-11-14          2704.0  自然堂       其他        其他      否  3713941.0  14  \n",
       "2016-11-14          1492.0  自然堂       其他        其他      否  1575668.0  14  \n",
       "2016-11-14           589.0  自然堂       其他        其他      否  1254132.0  14  \n",
       "2016-11-14          4287.0  自然堂       其他        其他      是   980590.0  14  \n",
       "2016-11-14           618.0  自然堂       其他        其他      否   722244.0  14  "
      ]
     },
     "execution_count": 33,
     "metadata": {},
     "output_type": "execute_result"
    }
   ],
   "source": [
    "# 查看最终数据表格\n",
    "cosdata.head()"
   ]
  },
  {
   "cell_type": "code",
   "execution_count": 34,
   "metadata": {},
   "outputs": [
    {
     "name": "stdout",
     "output_type": "stream",
     "text": [
      "<class 'pandas.core.frame.DataFrame'>\n",
      "DatetimeIndex: 27512 entries, 2016-11-14 to 2016-11-05\n",
      "Data columns (total 10 columns):\n",
      " #   Column         Non-Null Count  Dtype  \n",
      "---  ------         --------------  -----  \n",
      " 0   title          27512 non-null  object \n",
      " 1   price          27512 non-null  float64\n",
      " 2   sale_count     27512 non-null  float64\n",
      " 3   comment_count  27512 non-null  float64\n",
      " 4   店名             27512 non-null  object \n",
      " 5   sub_type       27512 non-null  object \n",
      " 6   main_type      27512 non-null  object \n",
      " 7   是否男士专用         27512 non-null  object \n",
      " 8   销售额            27512 non-null  float64\n",
      " 9   天              27512 non-null  int64  \n",
      "dtypes: float64(4), int64(1), object(5)\n",
      "memory usage: 2.3+ MB\n"
     ]
    }
   ],
   "source": [
    "cosdata.info()"
   ]
  },
  {
   "cell_type": "code",
   "execution_count": 35,
   "metadata": {},
   "outputs": [
    {
     "name": "stderr",
     "output_type": "stream",
     "text": [
      "C:\\Users\\12240\\AppData\\Local\\Temp\\ipykernel_28968\\691745503.py:4: FutureWarning: As the xlwt package is no longer maintained, the xlwt engine will be removed in a future version of pandas. This is the only engine in pandas that supports writing in the xls format. Install openpyxl and write to an xlsx file instead. You can set the option io.excel.xls.writer to 'xlwt' to silence this warning. While this option is deprecated and will also raise a warning, it can be globally set and the warning suppressed.\n",
      "  cosdata.to_excel(r\"C:\\Users\\12240\\Desktop\\clean_data.xls\",sheet_name = 'clean_data')\n"
     ]
    }
   ],
   "source": [
    "# 最后，将清洗过后的数据保存至一张新的表中，以供后继进一点的数据分析，保存数据的代码如下：\n",
    "import xlwt\n",
    "# 保存清理好的数据为Excel格式\n",
    "cosdata.to_excel(r\"C:\\Users\\12240\\Desktop\\clean_data.xls\",sheet_name = 'clean_data')"
   ]
  },
  {
   "cell_type": "markdown",
   "metadata": {},
   "source": [
    "# 任务3：数据分析\n",
    "【任务目标】\n",
    "\n",
    "本阶段的主要任务是针对前三个阶段清洗与处理后的数据进行数据探索与分析及可视化展示。\n",
    "\n",
    "###【任务步骤】\n",
    "## 3.1、分析各品牌SKU数"
   ]
  },
  {
   "cell_type": "code",
   "execution_count": 36,
   "metadata": {},
   "outputs": [],
   "source": [
    "# 导入matplotlib可视化包\n",
    "import matplotlib.pyplot as plt\n",
    "# 导入seaborn可视化包\n",
    "import seaborn as sns\n",
    "# 此行代码保证保存在内存中的图片能嵌入notebook页面，正常显示 \n",
    "%matplotlib inline"
   ]
  },
  {
   "cell_type": "code",
   "execution_count": 37,
   "metadata": {},
   "outputs": [
    {
     "data": {
      "text/plain": [
       "Index(['title', 'price', 'sale_count', 'comment_count', '店名', 'sub_type',\n",
       "       'main_type', '是否男士专用', '销售额', '天'],\n",
       "      dtype='object')"
      ]
     },
     "execution_count": 37,
     "metadata": {},
     "output_type": "execute_result"
    }
   ],
   "source": [
    "cosdata.columns"
   ]
  },
  {
   "cell_type": "code",
   "execution_count": 38,
   "metadata": {},
   "outputs": [
    {
     "data": {
      "image/png": "[encoded data removed]",
      "text/plain": [
       "<Figure size 800x600 with 1 Axes>"
      ]
     },
     "metadata": {},
     "output_type": "display_data"
    }
   ],
   "source": [
    "plt.rcParams['font.sans-serif']=['SimHei']  # 指定默认字体  \n",
    "plt.rcParams['axes.unicode_minus']=False  # 解决负号'-'显示为方块的问题\n",
    "# 定义画布\n",
    "plt.figure(figsize = (8,6))\n",
    "# 计算各店铺的商品数量\n",
    "cosdata['店名'].value_counts().sort_values(ascending = False).plot.bar(width = 0.8,alpha = 0.6,color = '#faa755')\n",
    "# 定义图表标题 \n",
    "plt.title('各品牌SKU数',fontsize = 20)\n",
    "# 显示y轴标签\n",
    "plt.ylabel(\"商品数量\",fontsize = 15)\n",
    "# 最终显示图表\n",
    "plt.show()"
   ]
  },
  {
   "cell_type": "markdown",
   "metadata": {},
   "source": [
    "结论： 从上述可视化的结果来看：悦诗风吟的商品数量最多，其次为佰草集、欧莱雅"
   ]
  },
  {
   "cell_type": "markdown",
   "metadata": {},
   "source": [
    "## 3.2、品牌总销量和总销售额\n",
    "+ 接下来，要分析的是美妆各品牌的总销量情况与总销售额排名情况"
   ]
  },
  {
   "cell_type": "code",
   "execution_count": 39,
   "metadata": {},
   "outputs": [
    {
     "data": {
      "image/png": "[encoded data removed]",
      "text/plain": [
       "<Figure size 1200x1000 with 2 Axes>"
      ]
     },
     "metadata": {},
     "output_type": "display_data"
    }
   ],
   "source": [
    "# 定义画布（定义了一个1行2列的画布区域）\n",
    "fig,axes = plt.subplots(1,2,figsize = (12,10))\n",
    "# 设置第一块画布的内容 \n",
    "# 对店铺先按名称进行分组，再组内按销售量进行求和并进行降序排列\n",
    "ax1 = cosdata.groupby('店名').sale_count.sum().sort_values(ascending = True).plot(kind = 'barh',ax = axes[0],width = 0.6,color = '#c7a252')\n",
    "# 设置图表标题 \n",
    "ax1.set_title('品牌总销售额',fontsize = 12)\n",
    "# 设置图表x轴标签\n",
    "ax1.set_xlabel('总销售量')\n",
    "# 设置第二块画布的内容 \n",
    "# 对店铺先按名称进行分组，再组内按销售额进行求和并进行降序排列\n",
    "ax2 = cosdata.groupby('店名')['销售额'].sum().sort_values(ascending = True).plot(kind = 'barh',ax = axes[1],width = 0.6,color = '#293047')\n",
    "# 设置图表标题 \n",
    "ax2.set_title('品牌总销售额',fontsize = 12)\n",
    "# 设置图表x轴标签\n",
    "ax2.set_xlabel('销售额')\n",
    "# 设置两个子图之前的水平方向的间距\n",
    "plt.subplots_adjust(wspace = 0.3)\n",
    "# 显示图表\n"
   ]
  },
  {
   "cell_type": "markdown",
   "metadata": {},
   "source": [
    "结论： 从上述结果可以看出，相宜本草的销售量和销售额都是最高的。销量第二至第五，分别为美宝莲、悦诗风吟、妮维雅、欧莱雅；销售额第二至第五，分别为欧莱雅、佰草集、美宝莲、悦诗m风吟。 宝莲、悦诗风吟、欧莱雅都在销量、销售额前五中。"
   ]
  },
  {
   "cell_type": "markdown",
   "metadata": {},
   "source": [
    "## 3.3、各类别的销售量、销售额情况\n",
    "\n",
    "接下来我们想要了解的是美妆品类中主类别与子类别的中销售占比情况（销售量占比、销售额占比）"
   ]
  },
  {
   "cell_type": "code",
   "execution_count": 47,
   "metadata": {},
   "outputs": [
    {
     "data": {
      "text/plain": [
       "'# 4，定义第一个画布的标题 \\nax1.set_title(\\'主类别销售量占比\\')\\n# 5，获取第二个画布展示所需数据（统计各子类的销售量之和）\\n# 6，定义第二个画布的图表展示\\npctdistance=0.8, \\nlabels= data2.index,\\nlabeldistance = 1.05,\\nstartangle = 230, \\nradius = 1.1, \\ncounterclock = False, \\nwedgeprops = {\\'linewidth\\': 1.2, \\'edgecolor\\':\\'k\\'},\\ntextprops = {\\'fontsize\\':10, \\'color\\':\\'k\\'}, \\n\\n# 7，定义第二个画布的标题\\nax2.set_title(\"子类别销售量占比\")\\n# 8，设置两个画布的水平间隔\\n# 9，显示图表\\n'"
      ]
     },
     "execution_count": 47,
     "metadata": {},
     "output_type": "execute_result"
    },
    {
     "data": {
      "image/png": "[encoded data removed]",
      "text/plain": [
       "<Figure size 1000x600 with 2 Axes>"
      ]
     },
     "metadata": {},
     "output_type": "display_data"
    }
   ],
   "source": [
    "# 1, 定义画布（一行两列及尽寸大小）\n",
    "fig,axes = plt.subplots(1,2,figsize = (10,6))\n",
    "# 2, 获取第一个画布展示所需数据（统计各主类的销售量之和）\n",
    "data1 = cosdata.groupby('main_type').sale_count.sum().sort_values(ascending = True)\n",
    "# 3，定义第一个画布的图表展示\n",
    "ax1 = data1.plot(kind = 'pie',ax = axes[0],autopct = '%.1f%%')\n",
    "pctdistance=0.8, # 设置百分比标签与圆心的距离\n",
    "labels= data1.index, # 定义标签\n",
    "labeldistance = 1.05, # 设置标签与圆心的距离\n",
    "startangle = 60, # 设置饼图的初始角度\n",
    "radius = 1.1, # 设置饼图的半径\n",
    "counterclock = False, # 是否逆时针，这里设置为顺时针方向\n",
    "wedgeprops = {'linewidth': 1.2, 'edgecolor':'k'},# 设置饼图内外边界的属性值\n",
    "textprops = {'fontsize':10, 'color':'k'}, # 设置文本标签的属性值\n",
    "\n",
    "'''# 4，定义第一个画布的标题 \n",
    "ax1.set_title('主类别销售量占比')\n",
    "# 5，获取第二个画布展示所需数据（统计各子类的销售量之和）\n",
    "# 6，定义第二个画布的图表展示\n",
    "pctdistance=0.8, \n",
    "labels= data2.index,\n",
    "labeldistance = 1.05,\n",
    "startangle = 230, \n",
    "radius = 1.1, \n",
    "counterclock = False, \n",
    "wedgeprops = {'linewidth': 1.2, 'edgecolor':'k'},\n",
    "textprops = {'fontsize':10, 'color':'k'}, \n",
    "\n",
    "# 7，定义第二个画布的标题\n",
    "ax2.set_title(\"子类别销售量占比\")\n",
    "# 8，设置两个画布的水平间隔\n",
    "# 9，显示图表\n",
    "'''"
   ]
  },
  {
   "cell_type": "markdown",
   "metadata": {},
   "source": [
    "结论：\n",
    "\n",
    "    从主类别销售量占比情况来看，护肤品的销量远大于化妆品；\n",
    "    从子类别销售量占比情况来看，套装、清洁类、面膜在护肤品中销量较多，底妆类在化妆品中销量最多\n",
    "\n",
    "    上面分析的是所有类别及子类别的销售占比情况，如果我们想更细致的了解各品牌主类及子类的美妆销售情况的话，可以进一步分析。\n",
    "\n",
    "    接下来，首先分析各品牌各总类的总销量情况"
   ]
  },
  {
   "cell_type": "code",
   "execution_count": 48,
   "metadata": {},
   "outputs": [
    {
     "ename": "SyntaxError",
     "evalue": "invalid syntax (2999066622.py, line 3)",
     "output_type": "error",
     "traceback": [
      "\u001b[1;36m  Input \u001b[1;32mIn [48]\u001b[1;36m\u001b[0m\n\u001b[1;33m    sns.barplot(x = '店名',y = 'sale_count',hue = 'main_type'),data = cosdata,saturation = 0.75,ci = 0)\u001b[0m\n\u001b[1;37m    ^\u001b[0m\n\u001b[1;31mSyntaxError\u001b[0m\u001b[1;31m:\u001b[0m invalid syntax\n"
     ]
    }
   ],
   "source": [
    "import seaborn as sns\n",
    "plt.figure(figsize = (14,6)\n",
    "sns.barplot(x = '店名',y = 'sale_count',hue = 'main_type'),data = cosdata,saturation = 0.75,ci = 0)\n",
    "plt.title('各品牌各总类的总销量')\n",
    "plt.ylabel('销量')\n",
    "plt.text(0,78000,'注：此处也可使用堆叠图，对比效果更直观',verticalalignment = 'top',horizontalalignment = 'left',\n",
    "         color = 'gray',fontsize = 10 )\n",
    "plt.show()"
   ]
  },
  {
   "cell_type": "code",
   "execution_count": null,
   "metadata": {},
   "outputs": [],
   "source": [
    "plt.figure(figsize = (14,6))"
   ]
  },
  {
   "cell_type": "markdown",
   "metadata": {},
   "source": [
    "分析各品牌各总类的总销售额"
   ]
  },
  {
   "cell_type": "code",
   "execution_count": null,
   "metadata": {},
   "outputs": [],
   "source": [
    "plt.figure(figsize = (12,5),dpi = 80)\n",
    "sns.barplot(x = '店名',y  = 'sale_count',hue = 'main_type',data = cosdata,ci = 0)"
   ]
  },
  {
   "cell_type": "markdown",
   "metadata": {},
   "source": [
    "结论：\n",
    "\n",
    "从上述数据及图表展示效果可以看出：各品牌的化妆品、护肤品销量、销售情况均不一样，这与品牌的定位有关， 有的品牌主打化妆品，化妆品会表现好很多，如蜜丝佛陀等。主打护肤品的品牌，护肤品的销量销售额会表现好很多，如欧莱雅、佰草集等。 有的品牌如美宝莲、兰蔻、悦诗风吟，化妆品和护肤品的销售、销售额都还不错。"
   ]
  },
  {
   "cell_type": "markdown",
   "metadata": {},
   "source": [
    "各品牌各子类美妆的销售情况"
   ]
  },
  {
   "cell_type": "code",
   "execution_count": null,
   "metadata": {},
   "outputs": [],
   "source": [
    "plt.figure(figsize = (12,5),dpi = 80)\n",
    "sns.barplot(x = '店名',y = '销售额',hue = 'sub_type',data = cosdata,saturation = 0.75,ci = 0,color = '#5c7a29')\n",
    "plt.title('各品牌各子类总销量')\n",
    "plt.ylabel('总销量')\n",
    "plt.show()"
   ]
  },
  {
   "cell_type": "markdown",
   "metadata": {},
   "source": [
    "## 3.4、各品牌热度\n",
    "+ 可以从各品牌的评论数，来判断人们对该品牌的关注度，从而间接了解各品牌的热度情况"
   ]
  },
  {
   "cell_type": "code",
   "execution_count": null,
   "metadata": {},
   "outputs": [],
   "source": [
    "plt.figure(figsize = (12,6))\n",
    "cosdata.groupby('店名').comment_count.mean().sort_values(ascending = False).plot(kind = 'bar',width = 0.8,color = '#b7ba6b')\n",
    "plt.title('各品牌商品的平均评论数')\n",
    "plt.ylabel('评论数')\n",
    "plt.show()"
   ]
  },
  {
   "cell_type": "markdown",
   "metadata": {},
   "source": [
    "店铺销量、评论，价格与热度之间的关系"
   ]
  },
  {
   "cell_type": "code",
   "execution_count": null,
   "metadata": {},
   "outputs": [],
   "source": [
    "# 1，准备画布\n",
    "plt.figure(figsize = (12,10))\n",
    "# 各店销量均值\n",
    "x = cosdata.groupby('店名')['sale_count'].mean()\n",
    "# 各店评论次数均值\n",
    "y = cosdata.groupby('店名')['comment_count'].mean()\n",
    "# 各店商品价格均值\n",
    "s = cosdata.groupby('店名')['price'].mean()\n",
    "# 各店数目重新索引\n",
    "txt = cosdata.groupby('店名').id.count().index\n",
    "# 接下来，利用散点图来展示数据\n",
    "sns.scatterplot(x,y,size = s,hue = s,sizes = (100,1500),data = cosdata)\n",
    "# 借助plt的annotate()方法提供辅助函数，进行标注\n",
    "for i in range(len(txt)):\n",
    "    plt.annotate(txt[i],xy = (x[i],y[i]))\n",
    "# 标签   \n",
    "plt.ylabel('标签')\n",
    "plt.xlabel('销量')\n",
    "# 设置图表的对齐方式（左上方向开始）\n",
    "plt.legend(loc = 'upper left')\n",
    "# 展示图表\n",
    "plt.show()"
   ]
  },
  {
   "cell_type": "markdown",
   "metadata": {},
   "source": [
    "结论：\n",
    "\n",
    "由上图所示：越靠上的品牌热度越高，越靠右的品牌销量越高，颜色越深圈越大价格越高\n",
    "\n",
    "    热度与销量呈现一定的正相关；\n",
    "    美宝莲热度第一，销量第二，妮维雅热度第二，销量第四，两者价格均相对较低；\n",
    "    价格低的品牌热度和销量相对较高，价格高的品牌热度和销量相对较低，说明价格在热度和销量中有一定影响；\n"
   ]
  },
  {
   "cell_type": "markdown",
   "metadata": {},
   "source": [
    "## 3.5、各品牌价格"
   ]
  },
  {
   "cell_type": "markdown",
   "metadata": {},
   "source": [
    "结论：\n",
    "\n",
    "由上图所示，越靠上代表销售额越高，越靠左代表销量越高，图形越大代表平均价格越高\n",
    "\n",
    "    销售量和销售额呈现正相关；\n",
    "    相宜本草、美宝莲、蜜丝佛陀销量和销售额位居前三，且平均价格居中；\n",
    "    说明销量销售额与价格有很重要的联系；\n"
   ]
  },
  {
   "cell_type": "markdown",
   "metadata": {},
   "source": [
    "## 3.6、男性护肤品销量情况"
   ]
  },
  {
   "cell_type": "code",
   "execution_count": null,
   "metadata": {},
   "outputs": [],
   "source": [
    "# 过滤出男士专用商品\n",
    "dataman = cosdata[data['是否男士专用'] == '是']\n",
    "# 再过滤出男士美妆产品中的 护肤品及化妆品种类的产品\n",
    "dataman = dataman[(dataman.main_type == '护肤品')|(dataman.main_type == '化妆品')]\n",
    "# 创建画布\n",
    "# 创建柱状图\n",
    "# 显示图表\n",
    "plt.figure(figsize = (12,5),dpi = 80)\n",
    "sns.barplot(x = '店名'my = 'sale_count',hue = 'main_type',data = dataman,saturation = 0.75,ci = 0)\n",
    "plt.xlabel('店名')\n",
    "plt.show()"
   ]
  },
  {
   "cell_type": "code",
   "execution_count": null,
   "metadata": {},
   "outputs": [],
   "source": [
    "f,[ax1,ax2] = plt.subplots(1,2,figsize = (12,6))\n",
    "dataman.groupby('店名').sale_count.sum().sort_values(ascending = True)/plot(kind = 'bar')\n",
    "ax1.set_title(\"男士护肤品销量排名\")\n",
    "ax2.set_title(\"男士护肤品销售额排名\")"
   ]
  },
  {
   "cell_type": "markdown",
   "metadata": {},
   "source": [
    "结论：\n",
    "\n",
    "    男士购买的大多是护肤品；\n",
    "    妮维雅是男生护肤品中销量遥遥领先的品牌，第二第三分别为欧莱雅、相宜本草；\n"
   ]
  },
  {
   "cell_type": "markdown",
   "metadata": {},
   "source": [
    "## 3.7、分析时间与销量的关系，体现购买高峰期"
   ]
  },
  {
   "cell_type": "code",
   "execution_count": null,
   "metadata": {},
   "outputs": [],
   "source": [
    "# 导入与图形刻度有关的模块\n",
    "from matpolib.pyplot import MultipleLocator\n",
    "# 定义画布\n",
    "plt.figure(figsize = (12,6))\n",
    "# 获取按日期（天）进行分组求和的销售量数据\n",
    "day_sale = cosdata.groupby('day')['sale_count'].sum()\n",
    "# 利用pandas库的plot方法生成图表\n",
    "day_sale.plot()\n",
    "# 绘制网格线\n",
    "plt.grid(linestyle = '-',color = '#5c7a29',axis = 'x',alpha = 0.5)\n",
    "x_major_locator=MultipleLocator(1)  #把x轴的刻度间隔设置为1，并存在变量里\n",
    "ax=plt.gca()  #ax为两条坐标轴的实例\n",
    "ax.xaxis.set_major_locator(x_major_locator)\n",
    "#把x轴的主刻度设置为1的倍数\n",
    "plt.xlabel('日期（11月）')\n",
    "plt.ylabel('销量')\n",
    "plt.show()"
   ]
  },
  {
   "cell_type": "markdown",
   "metadata": {},
   "source": [
    "结论：\n",
    "\n",
    "    淘宝化妆品的购买高峰在11号前几天，可能是双十一之前商家提前预热，已经有很大的优惠了，消费者的购物欲望强烈；\n",
    "    双十一当天，销量最低，可能是消费者为了避免网络高峰，在双11号之前提前购买了；\n",
    "    双十一之后的3天，销量远不如双十一之前了，但也逐步增长了，可能是商家持续打折有优惠，以及消费者的购物余热起作用。\n"
   ]
  },
  {
   "cell_type": "markdown",
   "metadata": {},
   "source": [
    "# 任务4：项目总结"
   ]
  },
  {
   "cell_type": "markdown",
   "metadata": {},
   "source": [
    "【任务目标】\n",
    "\n",
    "本阶段的主要任务是针对前四个阶段的内容进行分析总结，并根据分析得到的结果给出美妆电商销售合理化建议。\n",
    "\n",
    "###【任务步骤】\n",
    "## 4.1、数据分析总结\n",
    "\n",
    "    美妆类别中护肤品销量远大于化妆品，其中清洁类、化妆水、面霜等基础护肤类销量最高；\n",
    "    男士购买美妆集中在护肤品类，其中妮维雅品牌是最受男士喜爱的品牌；\n",
    "    价格和热度对销售量有关联，平价基础产品是大多数消费者的选择；\n",
    "    由于商家在双十一提前预热，巨大的优惠力度和为了避免网络高峰，不少消费者选择提前消费，销量高峰出现在双十一前几天；双十一后3天商家持续打折优惠，消费者还保有购物余热，但远不如双十一之前。\n",
    "\n",
    "## 4.2、给到商家的建议\n",
    "\n",
    "    消费者对产品价格和热度关注度较高，品牌可以适当调整产品价格并通过诸如网络社交平台的方式提高品牌热度；\n",
    "    对于男性消费者，品牌可以定向推荐平价基础护肤产品，在销量中可以看到也有一部分男性购买化妆品，品牌可以在护肤品中适当捆绑化妆品产品带动消费；\n",
    "    消费者购买欲望并不集中在双十一当天，商家可以提前预热加大优惠力度刺激消费者提前消费，避免网络高峰。\n"
   ]
  },
  {
   "cell_type": "code",
   "execution_count": null,
   "metadata": {},
   "outputs": [],
   "source": []
  }
 ],
 "metadata": {
  "kernelspec": {
   "display_name": "Python 3 (ipykernel)",
   "language": "python",
   "name": "python3"
  },
  "language_info": {
   "codemirror_mode": {
    "name": "ipython",
    "version": 3
   },
   "file_extension": ".py",
   "mimetype": "text/x-python",
   "name": "python",
   "nbconvert_exporter": "python",
   "pygments_lexer": "ipython3",
   "version": "3.9.12"
  },
  "toc": {
   "base_numbering": 1,
   "nav_menu": {},
   "number_sections": true,
   "sideBar": true,
   "skip_h1_title": false,
   "title_cell": "Table of Contents",
   "title_sidebar": "Contents",
   "toc_cell": false,
   "toc_position": {
    "height": "calc(100% - 180px)",
    "left": "10px",
    "top": "150px",
    "width": "165px"
   },
   "toc_section_display": true,
   "toc_window_display": true
  }
 },
 "nbformat": 4,
 "nbformat_minor": 4
}
