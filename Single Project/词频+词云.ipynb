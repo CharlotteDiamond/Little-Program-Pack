{
 "cells": [
  {
   "cell_type": "code",
   "execution_count": 15,
   "id": "922007e1",
   "metadata": {},
   "outputs": [
    {
     "name": "stdout",
     "output_type": "stream",
     "text": [
      "中心           53\n",
      "滇池           46\n",
      "国际           46\n",
      "春城           20\n",
      "城市           16\n",
      "文化           15\n",
      "健康           14\n",
      "半山           14\n",
      "半岛           13\n",
      "山水           13\n",
      "华府           12\n",
      "时代           12\n",
      "时光           11\n",
      "生态           11\n",
      "彩云           11\n",
      "科技           10\n",
      "金色           10\n",
      "螺蛳           10\n",
      "葡萄           10\n",
      "湖畔            9\n"
     ]
    }
   ],
   "source": [
    "import jieba\n",
    "txt = open(r'C:\\Users\\12240\\Desktop\\1.txt',\"r\",encoding = 'utf-8').read()\n",
    "excludes = {\"小区\",\"花园\",\"广场\",\"俊园\",\"云南\",\"天宇\",\"商务中心\",\"绿地\",\"二期\",\\\n",
    "            \"俊发\",\"街区\",\"红星\",\"商业广场\",\"蓝光\",\"万科\",\"大观\",\"观云海\",\"龙湖\",\"恒大\",\\\n",
    "            \"公馆\",\"家园\",\"示范\",\"昆明\",\"新城\",\"一期\",\"商业中心\",\"建发曦\"}\n",
    "words = jieba.lcut(txt)\n",
    "counts = {}\n",
    "for word in words:\n",
    "    if len(word) == 1:\n",
    "        continue\n",
    "    else:\n",
    "        counts[word] = counts.get(word,0)+1\n",
    "for word in excludes:\n",
    "    del(counts[word])\n",
    "items = list(counts.items())\n",
    "items.sort(key = lambda x:x[1],reverse = True)\n",
    "for i in range(20):\n",
    "    word,count = items[i]\n",
    "    print(\"{0:<10}{1:>5}\".format(word,count))"
   ]
  },
  {
   "cell_type": "code",
   "execution_count": 11,
   "id": "6de0110c",
   "metadata": {},
   "outputs": [],
   "source": [
    "import jieba\n",
    "import imageio\n",
    "import wordcloud\n",
    "word = open(r'C:\\Users\\12240\\Desktop\\1.txt',encoding = 'utf-8').read()\n",
    "word[:100]\n",
    "wordlist = jieba.lcut(word)\n",
    "type(wordlist)\n",
    "wordlist[:10]\n",
    "string = \" \".join(wordlist)"
   ]
  },
  {
   "cell_type": "code",
   "execution_count": 13,
   "id": "3011d6df",
   "metadata": {},
   "outputs": [
    {
     "data": {
      "text/plain": [
       "<wordcloud.wordcloud.WordCloud at 0x22bca219250>"
      ]
     },
     "execution_count": 13,
     "metadata": {},
     "output_type": "execute_result"
    }
   ],
   "source": [
    "image = imageio.imread(\"C:\\\\Users\\\\12240\\\\Desktop\\\\1.png\")\n",
    "wc = wordcloud.WordCloud(width = 610,height = 697, background_color = 'white',font_path = r'C:\\Users\\12240\\Desktop\\jianti.otf',mask = image,scale = 15)\n",
    "wc.generate(string)\n",
    "wc.to_file(r'C:\\Users\\12240\\Desktop\\result_wordcloud.png')"
   ]
  }
 ],
 "metadata": {
  "kernelspec": {
   "display_name": "Python 3",
   "language": "python",
   "name": "python3"
  },
  "language_info": {
   "codemirror_mode": {
    "name": "ipython",
    "version": 3
   },
   "file_extension": ".py",
   "mimetype": "text/x-python",
   "name": "python",
   "nbconvert_exporter": "python",
   "pygments_lexer": "ipython3",
   "version": "3.8.8"
  }
 },
 "nbformat": 4,
 "nbformat_minor": 5
}
