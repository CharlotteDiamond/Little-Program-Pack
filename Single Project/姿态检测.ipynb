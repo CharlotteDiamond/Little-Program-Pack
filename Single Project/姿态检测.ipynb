{
 "cells": [
  {
   "cell_type": "code",
   "execution_count": 1,
   "id": "090e033b",
   "metadata": {},
   "outputs": [],
   "source": [
    "import cv2 as cv \n",
    "from cvzone.PoseModule import PoseDetector"
   ]
  },
  {
   "cell_type": "code",
   "execution_count": 2,
   "id": "a61c437b",
   "metadata": {},
   "outputs": [],
   "source": [
    "cap = cv.VideoCapture(r'C:\\Users\\12240\\Desktop\\1\\news1.flv')\n",
    "detector = PoseDetector()\n",
    "while True:\n",
    "    flag,frame = cap.read()\n",
    "    if not flag:\n",
    "        break\n",
    "    frame = cv.resize(frame,(640,400))\n",
    "    frame = detector.findPose(frame)\n",
    "    cv.imshow('pose',frame)\n",
    "    if ord('x') == cv.waitKey(1):\n",
    "        break\n",
    "cv.destroyAllWindows()"
   ]
  }
 ],
 "metadata": {
  "kernelspec": {
   "display_name": "Python 3 (ipykernel)",
   "language": "python",
   "name": "python3"
  },
  "language_info": {
   "codemirror_mode": {
    "name": "ipython",
    "version": 3
   },
   "file_extension": ".py",
   "mimetype": "text/x-python",
   "name": "python",
   "nbconvert_exporter": "python",
   "pygments_lexer": "ipython3",
   "version": "3.9.13"
  }
 },
 "nbformat": 4,
 "nbformat_minor": 5
}
