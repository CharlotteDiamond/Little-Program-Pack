{
 "cells": [
  {
   "cell_type": "code",
   "execution_count": 1,
   "id": "ec8887c4",
   "metadata": {},
   "outputs": [],
   "source": [
    "import os\n",
    "import sys\n",
    "import cv2 as cv\n",
    "import numpy as np\n",
    "import urllib\n",
    "import urllib.request\n",
    "import hashlib\n",
    "from PIL import Image"
   ]
  },
  {
   "cell_type": "markdown",
   "id": "e67cf3e5",
   "metadata": {},
   "source": [
    "# 图片读取"
   ]
  },
  {
   "cell_type": "code",
   "execution_count": 2,
   "id": "f805d3a7",
   "metadata": {
    "scrolled": false
   },
   "outputs": [
    {
     "ename": "TypeError",
     "evalue": "destroyWindow() missing required argument 'winname' (pos 1)",
     "output_type": "error",
     "traceback": [
      "\u001b[1;31m---------------------------------------------------------------------------\u001b[0m",
      "\u001b[1;31mTypeError\u001b[0m                                 Traceback (most recent call last)",
      "Input \u001b[1;32mIn [2]\u001b[0m, in \u001b[0;36m<cell line: 4>\u001b[1;34m()\u001b[0m\n\u001b[0;32m      2\u001b[0m cv\u001b[38;5;241m.\u001b[39mimshow(\u001b[38;5;124m\"\u001b[39m\u001b[38;5;124mimg\u001b[39m\u001b[38;5;124m\"\u001b[39m,img)\n\u001b[0;32m      3\u001b[0m cv\u001b[38;5;241m.\u001b[39mwaitKey(\u001b[38;5;241m0\u001b[39m)\n\u001b[1;32m----> 4\u001b[0m \u001b[43mcv\u001b[49m\u001b[38;5;241;43m.\u001b[39;49m\u001b[43mdestroyWindow\u001b[49m\u001b[43m(\u001b[49m\u001b[43m)\u001b[49m\n",
      "\u001b[1;31mTypeError\u001b[0m: destroyWindow() missing required argument 'winname' (pos 1)"
     ]
    }
   ],
   "source": [
    "img = cv.imread(r\"C:\\Users\\12240\\Desktop\\1\\face1.jpg\")\n",
    "cv.imshow(\"img\",img)\n",
    "cv.waitKey(0)\n",
    "cv.destroyWindow()"
   ]
  },
  {
   "cell_type": "code",
   "execution_count": 3,
   "id": "c6ada5a5",
   "metadata": {
    "scrolled": true
   },
   "outputs": [
    {
     "ename": "TypeError",
     "evalue": "destroyWindow() missing required argument 'winname' (pos 1)",
     "output_type": "error",
     "traceback": [
      "\u001b[1;31m---------------------------------------------------------------------------\u001b[0m",
      "\u001b[1;31mTypeError\u001b[0m                                 Traceback (most recent call last)",
      "Input \u001b[1;32mIn [3]\u001b[0m, in \u001b[0;36m<cell line: 4>\u001b[1;34m()\u001b[0m\n\u001b[0;32m      2\u001b[0m cv\u001b[38;5;241m.\u001b[39mimshow(\u001b[38;5;124m\"\u001b[39m\u001b[38;5;124m321\u001b[39m\u001b[38;5;124m\"\u001b[39m,CC)\n\u001b[0;32m      3\u001b[0m cv\u001b[38;5;241m.\u001b[39mwaitKey(\u001b[38;5;241m0\u001b[39m)\n\u001b[1;32m----> 4\u001b[0m \u001b[43mcv\u001b[49m\u001b[38;5;241;43m.\u001b[39;49m\u001b[43mdestroyWindow\u001b[49m\u001b[43m(\u001b[49m\u001b[43m)\u001b[49m\n",
      "\u001b[1;31mTypeError\u001b[0m: destroyWindow() missing required argument 'winname' (pos 1)"
     ]
    }
   ],
   "source": [
    "CC = cv.imread(r\"C:\\Users\\12240\\Desktop\\1\\face4.jpg\")\n",
    "cv.imshow(\"321\",CC)\n",
    "cv.waitKey(0)\n",
    "cv.destroyWindow()"
   ]
  },
  {
   "cell_type": "markdown",
   "id": "924d95d6",
   "metadata": {},
   "source": [
    "# 读取灰度"
   ]
  },
  {
   "cell_type": "code",
   "execution_count": 4,
   "id": "0f4c2df1",
   "metadata": {
    "scrolled": false
   },
   "outputs": [
    {
     "ename": "TypeError",
     "evalue": "destroyWindow() missing required argument 'winname' (pos 1)",
     "output_type": "error",
     "traceback": [
      "\u001b[1;31m---------------------------------------------------------------------------\u001b[0m",
      "\u001b[1;31mTypeError\u001b[0m                                 Traceback (most recent call last)",
      "Input \u001b[1;32mIn [4]\u001b[0m, in \u001b[0;36m<cell line: 5>\u001b[1;34m()\u001b[0m\n\u001b[0;32m      3\u001b[0m cv\u001b[38;5;241m.\u001b[39mimshow(\u001b[38;5;124m\"\u001b[39m\u001b[38;5;124mgray\u001b[39m\u001b[38;5;124m\"\u001b[39m,gray)\n\u001b[0;32m      4\u001b[0m cv\u001b[38;5;241m.\u001b[39mwaitKey(\u001b[38;5;241m0\u001b[39m)\n\u001b[1;32m----> 5\u001b[0m \u001b[43mcv\u001b[49m\u001b[38;5;241;43m.\u001b[39;49m\u001b[43mdestroyWindow\u001b[49m\u001b[43m(\u001b[49m\u001b[43m)\u001b[49m\n",
      "\u001b[1;31mTypeError\u001b[0m: destroyWindow() missing required argument 'winname' (pos 1)"
     ]
    }
   ],
   "source": [
    "cv.imread(r\"C:\\Users\\12240\\Desktop\\1\\face4.jpg\")\n",
    "gray = cv.imread(r\"C:\\Users\\12240\\Desktop\\1\\face4.jpg\",cv.IMREAD_GRAYSCALE)\n",
    "cv.imshow(\"gray\",gray)\n",
    "cv.waitKey(0)\n",
    "cv.destroyWindow()"
   ]
  },
  {
   "cell_type": "markdown",
   "id": "e8fd17a2",
   "metadata": {},
   "source": [
    "# 修改尺寸"
   ]
  },
  {
   "cell_type": "code",
   "execution_count": 5,
   "id": "83ba0ede",
   "metadata": {},
   "outputs": [
    {
     "name": "stdout",
     "output_type": "stream",
     "text": [
      "Oringinal Size: (631, 599, 3)\n",
      "Resizing Size: (300, 300, 3)\n"
     ]
    }
   ],
   "source": [
    "cc = cv.imread(r\"C:\\Users\\12240\\Desktop\\1\\face4.jpg\")\n",
    "resizeimg = cv.resize(cc,(300,300))\n",
    "cv.imshow(\"321\",cc)\n",
    "cv.imshow(\"resize\",resizeimg)\n",
    "print(\"Oringinal Size:\",cc.shape)\n",
    "print('Resizing Size:',resizeimg.shape)\n",
    "while True:\n",
    "    if ord('x') == cv.waitKey(0):\n",
    "        break\n",
    "cv.destroyAllWindows()"
   ]
  },
  {
   "cell_type": "markdown",
   "id": "90a358f1",
   "metadata": {},
   "source": [
    "# 灰度转换"
   ]
  },
  {
   "cell_type": "code",
   "execution_count": 6,
   "id": "2e96cca8",
   "metadata": {},
   "outputs": [],
   "source": [
    "cc = cv.imread(r\"C:\\Users\\12240\\Desktop\\1\\face4.jpg\")\n",
    "gray = cv.imread(r\"C:\\Users\\12240\\Desktop\\1\\face4.jpg\",cv.IMREAD_GRAYSCALE)\n",
    "cv.imshow(\"321\",cc)\n",
    "cv.imshow(\"gray\",gray)\n",
    "while True:\n",
    "    if ord('x') == cv.waitKey(0):\n",
    "        break\n",
    "cv.destroyAllWindows()"
   ]
  },
  {
   "cell_type": "markdown",
   "id": "50738a5d",
   "metadata": {},
   "source": [
    "# 绘制人脸框"
   ]
  },
  {
   "cell_type": "code",
   "execution_count": 7,
   "id": "0aa5af91",
   "metadata": {},
   "outputs": [],
   "source": [
    "cc = cv.imread(r\"C:\\Users\\12240\\Desktop\\1\\face1.jpg\")\n",
    "x,y,w,h = 100,100,100,100\n",
    "cv.rectangle(cc,(x,y,x+w,y+h),color = (255,0,0),thickness = 2)\n",
    "cv.circle(cc,center=(x+w,y+h),radius = 100,color = (0,0,255),thickness = 3)\n",
    "cv.imshow('shsh',cc)\n",
    "while True:\n",
    "    if ord('x') == cv.waitKey(0):\n",
    "        break\n",
    "cv.destroyAllWindows()"
   ]
  },
  {
   "cell_type": "markdown",
   "id": "acfd9dbb",
   "metadata": {},
   "source": [
    "# 检测多人"
   ]
  },
  {
   "cell_type": "code",
   "execution_count": 8,
   "id": "05cf2c9d",
   "metadata": {},
   "outputs": [
    {
     "ename": "TypeError",
     "evalue": "destroyWindow() missing required argument 'winname' (pos 1)",
     "output_type": "error",
     "traceback": [
      "\u001b[1;31m---------------------------------------------------------------------------\u001b[0m",
      "\u001b[1;31mTypeError\u001b[0m                                 Traceback (most recent call last)",
      "Input \u001b[1;32mIn [8]\u001b[0m, in \u001b[0;36m<cell line: 14>\u001b[1;34m()\u001b[0m\n\u001b[0;32m     12\u001b[0m face_detect()\n\u001b[0;32m     13\u001b[0m cv\u001b[38;5;241m.\u001b[39mwaitKey(\u001b[38;5;241m0\u001b[39m)\n\u001b[1;32m---> 14\u001b[0m \u001b[43mcv\u001b[49m\u001b[38;5;241;43m.\u001b[39;49m\u001b[43mdestroyWindow\u001b[49m\u001b[43m(\u001b[49m\u001b[43m)\u001b[49m\n",
      "\u001b[1;31mTypeError\u001b[0m: destroyWindow() missing required argument 'winname' (pos 1)"
     ]
    }
   ],
   "source": [
    "##example1\n",
    "def face_detect():\n",
    "    gray = cv.cvtColor(img,cv.COLOR_BGR2GRAY)\n",
    "    detecter = cv.CascadeClassifier(r'C:\\ProgramData\\Anaconda3\\Lib\\site-packages\\cv2\\data\\haarcascade_frontalface_default.xml') #导入人脸分类器\n",
    "    #（传入的图像，检测参数，反复检测次数，0，（最小长度），（最大长度））\n",
    "    face = detecter.detectMultiScale(gray,1.05,5,0,(10,10),(500,500))\n",
    "    for x,y,w,h in face:\n",
    "        cv.rectangle(img,(x,y),(x+w,y+h),color =(0,0,255),thickness = 2)\n",
    "        #cv.circle(img,center(x+w,y+h),color =(0,0,255),thickness = 2)\n",
    "    cv.imshow(\"detect\",img)\n",
    "img = cv.imread(r\"C:\\Users\\12240\\Desktop\\1\\face2.jpg\")\n",
    "face_detect()\n",
    "cv.waitKey(0)\n",
    "cv.destroyWindow()"
   ]
  },
  {
   "cell_type": "code",
   "execution_count": 9,
   "id": "03eb1c60",
   "metadata": {},
   "outputs": [
    {
     "ename": "TypeError",
     "evalue": "destroyWindow() missing required argument 'winname' (pos 1)",
     "output_type": "error",
     "traceback": [
      "\u001b[1;31m---------------------------------------------------------------------------\u001b[0m",
      "\u001b[1;31mTypeError\u001b[0m                                 Traceback (most recent call last)",
      "Input \u001b[1;32mIn [9]\u001b[0m, in \u001b[0;36m<cell line: 14>\u001b[1;34m()\u001b[0m\n\u001b[0;32m     12\u001b[0m face_detect()\n\u001b[0;32m     13\u001b[0m cv\u001b[38;5;241m.\u001b[39mwaitKey(\u001b[38;5;241m0\u001b[39m)\n\u001b[1;32m---> 14\u001b[0m \u001b[43mcv\u001b[49m\u001b[38;5;241;43m.\u001b[39;49m\u001b[43mdestroyWindow\u001b[49m\u001b[43m(\u001b[49m\u001b[43m)\u001b[49m\n",
      "\u001b[1;31mTypeError\u001b[0m: destroyWindow() missing required argument 'winname' (pos 1)"
     ]
    }
   ],
   "source": [
    "##example2\n",
    "def face_detect():\n",
    "    gray = cv.cvtColor(img,cv.COLOR_BGR2GRAY)\n",
    "    detecter = cv.CascadeClassifier(r'C:\\ProgramData\\Anaconda3\\Lib\\site-packages\\cv2\\data\\haarcascade_frontalface_default.xml') #导入人脸分类器\n",
    "    #（传入的图像，检测参数，反复检测次数，0，（最小长度），（最大长度））\n",
    "    face = detecter.detectMultiScale(gray,1.05,5,0,(10,10),(500,500))\n",
    "    for x,y,w,h in face:\n",
    "        cv.rectangle(img,(x,y),(x+w,y+h),color =(0,0,255),thickness = 2)\n",
    "        #cv.circle(img,center(x+w,y+h),color =(0,0,255),thickness = 2)\n",
    "    cv.imshow(\"detect\",img)\n",
    "img = cv.imread(r\"C:\\Users\\12240\\Desktop\\1\\face3.jpg\")\n",
    "face_detect()\n",
    "cv.waitKey(0)\n",
    "cv.destroyWindow()"
   ]
  },
  {
   "cell_type": "markdown",
   "id": "ffa040fd",
   "metadata": {},
   "source": [
    "# 视频检测"
   ]
  },
  {
   "cell_type": "code",
   "execution_count": 10,
   "id": "735f2195",
   "metadata": {},
   "outputs": [],
   "source": [
    "def face_detect(img):\n",
    "    gray = cv.cvtColor(img,cv.COLOR_BGR2GRAY)\n",
    "    #这里的xml用haarcascade_frontalface_default也可以\n",
    "    detecter = cv.CascadeClassifier(r'C:\\ProgramData\\Anaconda3\\Lib\\site-packages\\cv2\\data\\haarcascade_frontalface_alt.xml')#导入人脸分类器\n",
    "    #（传入的图像，检测参数，反复检测次数，0，（最小长度），（最大长度））\n",
    "    face = detecter.detectMultiScale(gray,2,5,0,(50,50),(500,500))\n",
    "    for x,y,w,h in face:\n",
    "        cv.rectangle(img,(x,y),(x+w,y+h),color =(0,0,255),thickness = 2)\n",
    "        #cv.circle(img,center(x+w,y+h),color =(0,0,255),thickness = 2)\n",
    "    cv.imshow(\"result\",img)\n",
    "#cap = cv.VideoCapture(0) 加载摄像头\n",
    "cap = cv.VideoCapture(r'C:\\Users\\12240\\Desktop\\1\\news1.flv')#加载本地视频\n",
    "while True:\n",
    "    flag,frame = cap.read()\n",
    "    if not flag:\n",
    "        break\n",
    "    frame = cv.resize(frame,(640,400))\n",
    "    face_detect(frame)\n",
    "    if ord('x') == cv.waitKey(1):\n",
    "        break\n",
    "cv.destroyAllWindows()"
   ]
  },
  {
   "cell_type": "code",
   "execution_count": 11,
   "id": "50ab8c15",
   "metadata": {},
   "outputs": [],
   "source": [
    "#摄像头 cap = cv.VideoCapture(0,cv2,Hedi's Desktop)\n",
    "cap = cv.VideoCapture(r'C:\\Users\\12240\\Desktop\\1\\news1.flv')\n",
    "flag = 1\n",
    "num = 1\n",
    "while(cap.isOpened()):\n",
    "    flag,frame = cap.read()\n",
    "    frame = cv.resize(frame,(640,400))\n",
    "    cv.imshow('cap',frame)\n",
    "    k = cv.waitKey(1) & 0xFF #按键判断\n",
    "    if k == ord('s'):\n",
    "        cv.imwrite(r\"C:\\Users\\12240\\Desktop\\2\\\\\"+str(num)+'-person1.jpg',frame)\n",
    "        print('success to save'+str(num)+'-person1.jpg')\n",
    "        num+=1\n",
    "    elif k ==ord('x'):\n",
    "        break\n",
    "cap.release() #释放摄像头\n",
    "cv.destroyAllWindows()"
   ]
  },
  {
   "cell_type": "markdown",
   "id": "ef89f58d",
   "metadata": {},
   "source": [
    "# 人脸检测"
   ]
  },
  {
   "cell_type": "code",
   "execution_count": 12,
   "id": "6dcd5208",
   "metadata": {
    "scrolled": true
   },
   "outputs": [
    {
     "name": "stdout",
     "output_type": "stream",
     "text": [
      "数据排列： ['C:/Users/12240/Desktop/2/1-person1.jpg', 'C:/Users/12240/Desktop/2/10-person1.jpg', 'C:/Users/12240/Desktop/2/11-person1.jpg', 'C:/Users/12240/Desktop/2/2-person1.jpg', 'C:/Users/12240/Desktop/2/3-person1.jpg', 'C:/Users/12240/Desktop/2/4-person1.jpg', 'C:/Users/12240/Desktop/2/5-person1.jpg', 'C:/Users/12240/Desktop/2/6-person1.jpg', 'C:/Users/12240/Desktop/2/7-person1.jpg', 'C:/Users/12240/Desktop/2/8-person1.jpg', 'C:/Users/12240/Desktop/2/9-person1.jpg']\n",
      "id: 1\n",
      "id: 10\n",
      "id: 11\n",
      "id: 2\n",
      "id: 3\n",
      "id: 4\n",
      "id: 5\n",
      "id: 6\n",
      "id: 7\n",
      "id: 8\n",
      "id: 9\n",
      "fs: [array([[ 32,  32,  32, ...,  51,  57,  57],\n",
      "       [ 33,  33,  32, ...,  50,  57,  58],\n",
      "       [ 33,  33,  32, ...,  61,  66,  65],\n",
      "       ...,\n",
      "       [ 47,  29,  26, ..., 174, 175, 177],\n",
      "       [ 47,  38,  33, ..., 175, 173, 175],\n",
      "       [ 55,  39,  41, ..., 179, 176, 174]], dtype=uint8), array([[ 30,  29,  28, ...,  36,  38,  47],\n",
      "       [ 31,  30,  29, ...,  38,  42,  51],\n",
      "       [ 31,  31,  30, ...,  39,  43,  52],\n",
      "       ...,\n",
      "       [188, 187, 143, ..., 180, 180, 180],\n",
      "       [191, 195, 147, ..., 181, 181, 180],\n",
      "       [189, 186, 166, ..., 182, 182, 181]], dtype=uint8), array([[ 33,  30,  30, ...,  39,  38,  41],\n",
      "       [ 33,  31,  31, ...,  38,  38,  43],\n",
      "       [ 29,  31,  31, ...,  44,  44,  49],\n",
      "       ...,\n",
      "       [181, 181, 165, ..., 185, 186, 186],\n",
      "       [182, 178, 171, ..., 186, 186, 186],\n",
      "       [184, 187, 188, ..., 185, 185, 186]], dtype=uint8), array([[ 30,  32,  35, ...,  44,  58,  59],\n",
      "       [ 31,  32,  34, ...,  52,  59,  59],\n",
      "       [ 32,  33,  34, ...,  59,  65,  66],\n",
      "       ...,\n",
      "       [ 22,  17,  21, ..., 178, 175, 179],\n",
      "       [ 25,  25,  23, ..., 180, 179, 177],\n",
      "       [ 54,  29,  26, ..., 178, 182, 180]], dtype=uint8), array([[ 37,  34,  33, ...,  49,  46,  52],\n",
      "       [ 33,  30,  29, ...,  40,  41,  45],\n",
      "       [ 31,  29,  28, ...,  39,  43,  44],\n",
      "       ...,\n",
      "       [191, 191, 193, ...,  31,  46, 105],\n",
      "       [192, 188, 190, ..., 120, 165, 183],\n",
      "       [190, 189, 189, ..., 184, 179, 185]], dtype=uint8), array([[ 29,  29,  29, ...,  62,  59,  54],\n",
      "       [ 26,  26,  26, ...,  44,  43,  44],\n",
      "       [ 26,  26,  26, ...,  37,  37,  42],\n",
      "       ...,\n",
      "       [188, 188, 187, ..., 185, 181, 187],\n",
      "       [188, 188, 188, ..., 180, 184, 186],\n",
      "       [187, 188, 188, ..., 175, 190, 186]], dtype=uint8), array([[ 26,  26,  26, ...,  48,  44,  42],\n",
      "       [ 28,  27,  26, ...,  42,  37,  38],\n",
      "       [ 29,  28,  27, ...,  43,  38,  38],\n",
      "       ...,\n",
      "       [186, 187, 188, ..., 189, 183, 187],\n",
      "       [186, 187, 188, ..., 180, 185, 185],\n",
      "       [186, 187, 188, ..., 175, 191, 184]], dtype=uint8), array([[ 29,  30,  29, ...,  54,  54,  56],\n",
      "       [ 30,  29,  28, ...,  57,  57,  58],\n",
      "       [ 30,  29,  29, ...,  53,  54,  57],\n",
      "       ...,\n",
      "       [193, 190, 190, ...,  32,  66, 159],\n",
      "       [193, 190, 188, ...,  16,  24,  30],\n",
      "       [189, 189, 183, ...,  23,  31,  35]], dtype=uint8), array([[ 27,  28,  28, ...,  68,  65,  60],\n",
      "       [ 30,  29,  24, ...,  46,  46,  47],\n",
      "       [ 30,  30,  26, ...,  41,  45,  46],\n",
      "       ...,\n",
      "       [189, 192, 192, ..., 187, 189, 187],\n",
      "       [193, 195, 187, ..., 185, 187, 186],\n",
      "       [195, 195, 193, ..., 186, 186, 186]], dtype=uint8), array([[ 30,  31,  31, ...,  57,  52,  46],\n",
      "       [ 32,  32,  32, ...,  60,  47,  46],\n",
      "       [ 33,  32,  32, ...,  61,  39,  40],\n",
      "       ...,\n",
      "       [ 23,  23,  21, ..., 185, 189, 189],\n",
      "       [ 20,  24,  24, ..., 188, 186, 191],\n",
      "       [ 21,  22,  23, ..., 193, 189, 190]], dtype=uint8), array([[ 32,  32,  32, ...,  37,  37,  44],\n",
      "       [ 33,  33,  32, ...,  38,  42,  53],\n",
      "       [ 32,  33,  32, ...,  51,  54,  61],\n",
      "       ...,\n",
      "       [ 24,  23,  20, ..., 178, 185, 186],\n",
      "       [ 22,  22,  21, ..., 183, 182, 182],\n",
      "       [ 23,  23,  21, ..., 183, 186, 186]], dtype=uint8)]\n"
     ]
    }
   ],
   "source": [
    "def getImageAndLabels(path):\n",
    "    facesSamples = []\n",
    "    ids = []\n",
    "    imagePaths = [os.path.join(path,f) for f in os.listdir(path)]\n",
    "    face_detecter = cv.CascadeClassifier(r'C:\\ProgramData\\Anaconda3\\Lib\\site-packages\\cv2\\data\\haarcascade_frontalface_alt.xml')\n",
    "    print('数据排列：',imagePaths)\n",
    "    for imagePath in imagePaths:\n",
    "        PIL_img = Image.open(imagePath).convert('L')\n",
    "        img_numpy = np.array(PIL_img,'uint8')\n",
    "        faces = face_detecter.detectMultiScale(img_numpy)\n",
    "        id = int(os.path.split(imagePath)[1].split('-')[0])\n",
    "        for x,y,w,h in faces:\n",
    "            ids.append(id)\n",
    "            facesSamples.append(img_numpy[y:y+h,x:x+w])\n",
    "        print('id:', id)\n",
    "    print('fs:', facesSamples)\n",
    "    return facesSamples,ids\n",
    "if __name__ == '__main__':\n",
    "    path=r'C:/Users/12240/Desktop/2/'\n",
    "    faces,ids=getImageAndLabels(path)\n",
    "    recognizer=cv.face.LBPHFaceRecognizer_create()\n",
    "    recognizer.train(faces,np.array(ids))\n",
    "    recognizer.write(r\"C:/Users/12240/Desktop/trainer/trainer.yml\")"
   ]
  },
  {
   "cell_type": "markdown",
   "id": "fb4147a2",
   "metadata": {},
   "source": [
    "# 人脸识别"
   ]
  },
  {
   "cell_type": "code",
   "execution_count": 13,
   "id": "867b1e3c",
   "metadata": {},
   "outputs": [],
   "source": [
    "recogizer=cv.face.LBPHFaceRecognizer_create()\n",
    "recogizer.read(r\"C:/Users/12240/Desktop/trainer/trainer.yml\")\n",
    "names=[]\n",
    "warningtime = 0\n",
    "\n",
    "def face_detect_demo(img):\n",
    "    gray=cv.cvtColor(img,cv.COLOR_BGR2GRAY)\n",
    "    detecter = cv.CascadeClassifier(r'C:\\ProgramData\\Anaconda3\\Lib\\site-packages\\cv2\\data\\haarcascade_frontalface_default.xml') #导入人脸分类器\n",
    "    face = detecter.detectMultiScale(gray,1.05,5,0,(10,10),(500,500))\n",
    "    for x,y,w,h in face:\n",
    "        cv.rectangle(img,(x,y),(x+w,y+h),color=(0,0,255),thickness=2)\n",
    "        cv.circle(img,center=(x+w//2,y+h//2),radius=w//2,color=(0,255,0),thickness=1)\n",
    "        ids, confidence = recogizer.predict(gray[y:y + h, x:x + w])\n",
    "        if confidence > 80:\n",
    "            global warningtime\n",
    "            warningtime += 1\n",
    "            if warningtime > 100:\n",
    "               # warning()\n",
    "               print('检测到可疑人员')\n",
    "            cv.putText(img, 'unknown', (x+10, y-10), cv.FONT_HERSHEY_SIMPLEX, 0.75, (0, 255, 0), 1)\n",
    "        else:\n",
    "            cv.putText(img,str(names[ids-1]), (x+10, y-10), cv.FONT_HERSHEY_SIMPLEX, 0.75, (0, 255, 0), 1)\n",
    "    cv.imshow('result',img)\n",
    "def name():\n",
    "    path = r'C:/Users/12240/Desktop/2/'\n",
    "    #names = []\n",
    "    imagePaths=[os.path.join(path,f) for f in os.listdir(path)]\n",
    "    for imagePath in imagePaths:\n",
    "        name = str(os.path.split(imagePath)[1].split('-',2)[1])\n",
    "        names.append(name)\n",
    "cap=cv.VideoCapture(r'C:\\Users\\12240\\Desktop\\1\\news2.flv')\n",
    "name()\n",
    "while True:\n",
    "    flag,frame=cap.read()\n",
    "    if not flag:\n",
    "        break\n",
    "    face_detect_demo(frame)\n",
    "    if ord('x') == cv.waitKey(10):\n",
    "        break\n",
    "cv.destroyAllWindows()\n",
    "cap.release()\n",
    "#print(names)"
   ]
  },
  {
   "cell_type": "markdown",
   "id": "90a33ea5",
   "metadata": {},
   "source": [
    "# 网页视频"
   ]
  },
  {
   "cell_type": "code",
   "execution_count": 14,
   "id": "8963db98",
   "metadata": {},
   "outputs": [],
   "source": [
    "class CaptureVideo(object):\n",
    "    def net_video(self):\n",
    "        # 获取网络视频流\n",
    "        # cam = cv.VideoCapture(\"rtmp://192.168.0.10/live/test\")\n",
    "        # cam = cv.VideoCapture(\"rtmp://mobliestream.c3tv.com:554/live/goodtv.sdp\")\n",
    "        # cam = cv.VideoCapture(\"rtmp://ns8.indexforce.com/home/mystream\")\n",
    "        cam = cv.VideoCapture(\"rtsp://wowzaec2demo.streamlock.net/vod/mp4:BigBuckBunny_115k.mp4\")\n",
    "        while cam.isOpened():\n",
    "            sucess, frame = cam.read()\n",
    "            cv.imshow(\"Network\", frame)\n",
    "            cv.waitKey(1)\n",
    "            if ord('x') == cv.waitKey(1):\n",
    "                break\n",
    "if __name__ == \"__main__\":\n",
    "    capture_video = CaptureVideo()\n",
    "    capture_video.net_video()"
   ]
  }
 ],
 "metadata": {
  "kernelspec": {
   "display_name": "Python 3 (ipykernel)",
   "language": "python",
   "name": "python3"
  },
  "language_info": {
   "codemirror_mode": {
    "name": "ipython",
    "version": 3
   },
   "file_extension": ".py",
   "mimetype": "text/x-python",
   "name": "python",
   "nbconvert_exporter": "python",
   "pygments_lexer": "ipython3",
   "version": "3.9.13"
  }
 },
 "nbformat": 4,
 "nbformat_minor": 5
}
